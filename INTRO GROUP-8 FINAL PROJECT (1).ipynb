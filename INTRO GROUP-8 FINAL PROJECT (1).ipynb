{
 "cells": [
  {
   "cell_type": "code",
   "execution_count": 1,
   "metadata": {},
   "outputs": [
    {
     "name": "stdout",
     "output_type": "stream",
     "text": [
      "Requirement already satisfied: mysqlclient in ./.local/lib/python3.8/site-packages (2.1.0)\r\n"
     ]
    }
   ],
   "source": [
    "!python3 -m pip install mysqlclient --user"
   ]
  },
  {
   "cell_type": "code",
   "execution_count": 2,
   "metadata": {},
   "outputs": [],
   "source": [
    "import warnings\n",
    "warnings.filterwarnings(\"ignore\")"
   ]
  },
  {
   "cell_type": "code",
   "execution_count": 3,
   "metadata": {},
   "outputs": [],
   "source": [
    "myvars = {}\n",
    "with open(\"aanebu-mysql-password\") as myfile:\n",
    "    for line in myfile:\n",
    "        name, var = line.partition(\":\")[::2]\n",
    "        myvars[name.strip()] = var.strip()"
   ]
  },
  {
   "cell_type": "code",
   "execution_count": 4,
   "metadata": {},
   "outputs": [
    {
     "data": {
      "text/plain": [
       "dict_keys(['DB username', 'DB databasename', 'DB password'])"
      ]
     },
     "execution_count": 4,
     "metadata": {},
     "output_type": "execute_result"
    }
   ],
   "source": [
    "myvars.keys()"
   ]
  },
  {
   "cell_type": "code",
   "execution_count": 5,
   "metadata": {},
   "outputs": [
    {
     "data": {
      "text/plain": [
       "<_mysql.connection open to 'localhost' at 0x27c8380>"
      ]
     },
     "execution_count": 5,
     "metadata": {},
     "output_type": "execute_result"
    }
   ],
   "source": [
    "import MySQLdb\n",
    "import pandas as pd\n",
    "conn = MySQLdb.connect(host='localhost', user=myvars['DB username'], passwd=myvars['DB password'], db='I501Sp22grp08_db')\n",
    "cursor = conn.cursor()\n",
    "conn"
   ]
  },
  {
   "cell_type": "code",
   "execution_count": 6,
   "metadata": {},
   "outputs": [
    {
     "data": {
      "text/html": [
       "<div>\n",
       "<style scoped>\n",
       "    .dataframe tbody tr th:only-of-type {\n",
       "        vertical-align: middle;\n",
       "    }\n",
       "\n",
       "    .dataframe tbody tr th {\n",
       "        vertical-align: top;\n",
       "    }\n",
       "\n",
       "    .dataframe thead th {\n",
       "        text-align: right;\n",
       "    }\n",
       "</style>\n",
       "<table border=\"1\" class=\"dataframe\">\n",
       "  <thead>\n",
       "    <tr style=\"text-align: right;\">\n",
       "      <th></th>\n",
       "      <th>ID</th>\n",
       "      <th>AGE</th>\n",
       "      <th>SEX</th>\n",
       "      <th>INF_ANAM</th>\n",
       "      <th>STENOK_AN</th>\n",
       "      <th>FK_STENOK</th>\n",
       "      <th>IBS_POST</th>\n",
       "      <th>IBS_NASL</th>\n",
       "      <th>GB</th>\n",
       "      <th>SIM_GIPERT</th>\n",
       "      <th>...</th>\n",
       "      <th>JELUD_TAH</th>\n",
       "      <th>FIBR_JELUD</th>\n",
       "      <th>A_V_BLOK</th>\n",
       "      <th>OTEK_LANC</th>\n",
       "      <th>RAZRIV</th>\n",
       "      <th>DRESSLER</th>\n",
       "      <th>ZSN</th>\n",
       "      <th>REC_IM</th>\n",
       "      <th>P_IM_STEN</th>\n",
       "      <th>LET_IS</th>\n",
       "    </tr>\n",
       "  </thead>\n",
       "  <tbody>\n",
       "    <tr>\n",
       "      <th>0</th>\n",
       "      <td>1</td>\n",
       "      <td>77.0</td>\n",
       "      <td>1</td>\n",
       "      <td>2.0</td>\n",
       "      <td>1.0</td>\n",
       "      <td>1.0</td>\n",
       "      <td>2.0</td>\n",
       "      <td>NaN</td>\n",
       "      <td>3.0</td>\n",
       "      <td>0.0</td>\n",
       "      <td>...</td>\n",
       "      <td>0</td>\n",
       "      <td>0</td>\n",
       "      <td>0</td>\n",
       "      <td>0</td>\n",
       "      <td>0</td>\n",
       "      <td>0</td>\n",
       "      <td>0</td>\n",
       "      <td>0</td>\n",
       "      <td>0</td>\n",
       "      <td>0</td>\n",
       "    </tr>\n",
       "    <tr>\n",
       "      <th>1</th>\n",
       "      <td>2</td>\n",
       "      <td>55.0</td>\n",
       "      <td>1</td>\n",
       "      <td>1.0</td>\n",
       "      <td>0.0</td>\n",
       "      <td>0.0</td>\n",
       "      <td>0.0</td>\n",
       "      <td>0.0</td>\n",
       "      <td>0.0</td>\n",
       "      <td>0.0</td>\n",
       "      <td>...</td>\n",
       "      <td>0</td>\n",
       "      <td>0</td>\n",
       "      <td>0</td>\n",
       "      <td>0</td>\n",
       "      <td>0</td>\n",
       "      <td>0</td>\n",
       "      <td>0</td>\n",
       "      <td>0</td>\n",
       "      <td>0</td>\n",
       "      <td>0</td>\n",
       "    </tr>\n",
       "    <tr>\n",
       "      <th>2</th>\n",
       "      <td>3</td>\n",
       "      <td>52.0</td>\n",
       "      <td>1</td>\n",
       "      <td>0.0</td>\n",
       "      <td>0.0</td>\n",
       "      <td>0.0</td>\n",
       "      <td>2.0</td>\n",
       "      <td>NaN</td>\n",
       "      <td>2.0</td>\n",
       "      <td>0.0</td>\n",
       "      <td>...</td>\n",
       "      <td>0</td>\n",
       "      <td>0</td>\n",
       "      <td>0</td>\n",
       "      <td>0</td>\n",
       "      <td>0</td>\n",
       "      <td>0</td>\n",
       "      <td>0</td>\n",
       "      <td>0</td>\n",
       "      <td>0</td>\n",
       "      <td>0</td>\n",
       "    </tr>\n",
       "    <tr>\n",
       "      <th>3</th>\n",
       "      <td>4</td>\n",
       "      <td>68.0</td>\n",
       "      <td>0</td>\n",
       "      <td>0.0</td>\n",
       "      <td>0.0</td>\n",
       "      <td>0.0</td>\n",
       "      <td>2.0</td>\n",
       "      <td>NaN</td>\n",
       "      <td>2.0</td>\n",
       "      <td>0.0</td>\n",
       "      <td>...</td>\n",
       "      <td>0</td>\n",
       "      <td>0</td>\n",
       "      <td>0</td>\n",
       "      <td>0</td>\n",
       "      <td>0</td>\n",
       "      <td>0</td>\n",
       "      <td>1</td>\n",
       "      <td>0</td>\n",
       "      <td>0</td>\n",
       "      <td>0</td>\n",
       "    </tr>\n",
       "    <tr>\n",
       "      <th>4</th>\n",
       "      <td>5</td>\n",
       "      <td>60.0</td>\n",
       "      <td>1</td>\n",
       "      <td>0.0</td>\n",
       "      <td>0.0</td>\n",
       "      <td>0.0</td>\n",
       "      <td>2.0</td>\n",
       "      <td>NaN</td>\n",
       "      <td>3.0</td>\n",
       "      <td>0.0</td>\n",
       "      <td>...</td>\n",
       "      <td>0</td>\n",
       "      <td>0</td>\n",
       "      <td>0</td>\n",
       "      <td>0</td>\n",
       "      <td>0</td>\n",
       "      <td>0</td>\n",
       "      <td>0</td>\n",
       "      <td>0</td>\n",
       "      <td>0</td>\n",
       "      <td>0</td>\n",
       "    </tr>\n",
       "  </tbody>\n",
       "</table>\n",
       "<p>5 rows × 124 columns</p>\n",
       "</div>"
      ],
      "text/plain": [
       "   ID   AGE  SEX  INF_ANAM  STENOK_AN  FK_STENOK  IBS_POST  IBS_NASL   GB  \\\n",
       "0   1  77.0    1       2.0        1.0        1.0       2.0       NaN  3.0   \n",
       "1   2  55.0    1       1.0        0.0        0.0       0.0       0.0  0.0   \n",
       "2   3  52.0    1       0.0        0.0        0.0       2.0       NaN  2.0   \n",
       "3   4  68.0    0       0.0        0.0        0.0       2.0       NaN  2.0   \n",
       "4   5  60.0    1       0.0        0.0        0.0       2.0       NaN  3.0   \n",
       "\n",
       "   SIM_GIPERT  ...  JELUD_TAH  FIBR_JELUD  A_V_BLOK  OTEK_LANC  RAZRIV  \\\n",
       "0         0.0  ...          0           0         0          0       0   \n",
       "1         0.0  ...          0           0         0          0       0   \n",
       "2         0.0  ...          0           0         0          0       0   \n",
       "3         0.0  ...          0           0         0          0       0   \n",
       "4         0.0  ...          0           0         0          0       0   \n",
       "\n",
       "   DRESSLER  ZSN  REC_IM  P_IM_STEN  LET_IS  \n",
       "0         0    0       0          0       0  \n",
       "1         0    0       0          0       0  \n",
       "2         0    0       0          0       0  \n",
       "3         0    1       0          0       0  \n",
       "4         0    0       0          0       0  \n",
       "\n",
       "[5 rows x 124 columns]"
      ]
     },
     "execution_count": 6,
     "metadata": {},
     "output_type": "execute_result"
    }
   ],
   "source": [
    "dfmain = pd.read_csv('myocardialinfarction.csv')\n",
    "dfmain.head()"
   ]
  },
  {
   "cell_type": "code",
   "execution_count": 7,
   "metadata": {},
   "outputs": [
    {
     "data": {
      "text/html": [
       "<div>\n",
       "<style scoped>\n",
       "    .dataframe tbody tr th:only-of-type {\n",
       "        vertical-align: middle;\n",
       "    }\n",
       "\n",
       "    .dataframe tbody tr th {\n",
       "        vertical-align: top;\n",
       "    }\n",
       "\n",
       "    .dataframe thead th {\n",
       "        text-align: right;\n",
       "    }\n",
       "</style>\n",
       "<table border=\"1\" class=\"dataframe\">\n",
       "  <thead>\n",
       "    <tr style=\"text-align: right;\">\n",
       "      <th></th>\n",
       "      <th>AGE</th>\n",
       "      <th>SEX</th>\n",
       "      <th>SIM_GIPERT</th>\n",
       "      <th>endocr_01</th>\n",
       "      <th>endocr_02</th>\n",
       "      <th>endocr_03</th>\n",
       "      <th>zab_leg_03</th>\n",
       "      <th>R_AB_1_n</th>\n",
       "      <th>R_AB_2_n</th>\n",
       "      <th>R_AB_3_n</th>\n",
       "      <th>TIME_B_S</th>\n",
       "      <th>ZSN</th>\n",
       "    </tr>\n",
       "  </thead>\n",
       "  <tbody>\n",
       "    <tr>\n",
       "      <th>0</th>\n",
       "      <td>77.0</td>\n",
       "      <td>1</td>\n",
       "      <td>0.0</td>\n",
       "      <td>0.0</td>\n",
       "      <td>0.0</td>\n",
       "      <td>0.0</td>\n",
       "      <td>0.0</td>\n",
       "      <td>0.0</td>\n",
       "      <td>0.0</td>\n",
       "      <td>1.0</td>\n",
       "      <td>4.0</td>\n",
       "      <td>0</td>\n",
       "    </tr>\n",
       "    <tr>\n",
       "      <th>1</th>\n",
       "      <td>55.0</td>\n",
       "      <td>1</td>\n",
       "      <td>0.0</td>\n",
       "      <td>0.0</td>\n",
       "      <td>0.0</td>\n",
       "      <td>0.0</td>\n",
       "      <td>0.0</td>\n",
       "      <td>0.0</td>\n",
       "      <td>0.0</td>\n",
       "      <td>0.0</td>\n",
       "      <td>2.0</td>\n",
       "      <td>0</td>\n",
       "    </tr>\n",
       "    <tr>\n",
       "      <th>2</th>\n",
       "      <td>52.0</td>\n",
       "      <td>1</td>\n",
       "      <td>0.0</td>\n",
       "      <td>0.0</td>\n",
       "      <td>0.0</td>\n",
       "      <td>0.0</td>\n",
       "      <td>0.0</td>\n",
       "      <td>3.0</td>\n",
       "      <td>0.0</td>\n",
       "      <td>0.0</td>\n",
       "      <td>3.0</td>\n",
       "      <td>0</td>\n",
       "    </tr>\n",
       "    <tr>\n",
       "      <th>3</th>\n",
       "      <td>68.0</td>\n",
       "      <td>0</td>\n",
       "      <td>0.0</td>\n",
       "      <td>0.0</td>\n",
       "      <td>0.0</td>\n",
       "      <td>0.0</td>\n",
       "      <td>0.0</td>\n",
       "      <td>0.0</td>\n",
       "      <td>0.0</td>\n",
       "      <td>1.0</td>\n",
       "      <td>2.0</td>\n",
       "      <td>1</td>\n",
       "    </tr>\n",
       "    <tr>\n",
       "      <th>4</th>\n",
       "      <td>60.0</td>\n",
       "      <td>1</td>\n",
       "      <td>0.0</td>\n",
       "      <td>0.0</td>\n",
       "      <td>0.0</td>\n",
       "      <td>0.0</td>\n",
       "      <td>0.0</td>\n",
       "      <td>0.0</td>\n",
       "      <td>0.0</td>\n",
       "      <td>0.0</td>\n",
       "      <td>9.0</td>\n",
       "      <td>0</td>\n",
       "    </tr>\n",
       "  </tbody>\n",
       "</table>\n",
       "</div>"
      ],
      "text/plain": [
       "    AGE  SEX  SIM_GIPERT  endocr_01  endocr_02  endocr_03  zab_leg_03  \\\n",
       "0  77.0    1         0.0        0.0        0.0        0.0         0.0   \n",
       "1  55.0    1         0.0        0.0        0.0        0.0         0.0   \n",
       "2  52.0    1         0.0        0.0        0.0        0.0         0.0   \n",
       "3  68.0    0         0.0        0.0        0.0        0.0         0.0   \n",
       "4  60.0    1         0.0        0.0        0.0        0.0         0.0   \n",
       "\n",
       "   R_AB_1_n  R_AB_2_n  R_AB_3_n  TIME_B_S  ZSN  \n",
       "0       0.0       0.0       1.0       4.0    0  \n",
       "1       0.0       0.0       0.0       2.0    0  \n",
       "2       3.0       0.0       0.0       3.0    0  \n",
       "3       0.0       0.0       1.0       2.0    1  \n",
       "4       0.0       0.0       0.0       9.0    0  "
      ]
     },
     "execution_count": 7,
     "metadata": {},
     "output_type": "execute_result"
    }
   ],
   "source": [
    "dfcleaned = dfmain.filter(['AGE', 'SEX', 'SIM_GIPERT', 'endocr_01', 'endocr_02', 'endocr_03', \n",
    "                  'zab_leg_03', 'R_AB_1_n', 'R_AB_2_n', 'R_AB_3_n', 'TIME_B_S', 'ZSN'])\n",
    "dfcleaned.head()"
   ]
  },
  {
   "cell_type": "code",
   "execution_count": 8,
   "metadata": {},
   "outputs": [],
   "source": [
    "dfcleaned.to_csv('MI_CHD.csv')"
   ]
  },
  {
   "cell_type": "markdown",
   "metadata": {},
   "source": [
    "# DEVELOP CONNECTION BETWEEN mySQL AND PYTHON"
   ]
  },
  {
   "cell_type": "code",
   "execution_count": 9,
   "metadata": {},
   "outputs": [
    {
     "name": "stdout",
     "output_type": "stream",
     "text": [
      "Database opened...\n",
      "Table created\n"
     ]
    }
   ],
   "source": [
    "# import sqlite database package\n",
    "import sqlite3\n",
    "# create database\n",
    "conn = sqlite3.connect('dfcleaned.db')\n",
    "print(\"Database opened...\");\n",
    "# create table\n",
    "conn.execute('''\n",
    "CREATE TABLE IF NOT EXISTS dfcleaned(AGE float, \n",
    "SEX int, SIM_GIPERT text, endocr_01 text, endocr_02 text, endocr_03 text, \n",
    "zab_leg_03 text, R_AB_1_n text, R_AB_2_n text, R_AB_3_n text,  \n",
    "TIME_B_S text, ZSN text);''')\n",
    "conn.commit()\n",
    "print(\"Table created\");\n",
    "conn.close()"
   ]
  },
  {
   "cell_type": "code",
   "execution_count": 10,
   "metadata": {},
   "outputs": [
    {
     "name": "stdout",
     "output_type": "stream",
     "text": [
      "       AGE  SEX SIM_GIPERT endocr_01 endocr_02 endocr_03 zab_leg_03 R_AB_1_n  \\\n",
      "0     77.0    1        0.0       0.0       0.0       0.0        0.0      0.0   \n",
      "1     55.0    1        0.0       0.0       0.0       0.0        0.0      0.0   \n",
      "2     52.0    1        0.0       0.0       0.0       0.0        0.0      3.0   \n",
      "3     68.0    0        0.0       0.0       0.0       0.0        0.0      0.0   \n",
      "4     60.0    1        0.0       0.0       0.0       0.0        0.0      0.0   \n",
      "...    ...  ...        ...       ...       ...       ...        ...      ...   \n",
      "3395  77.0    0        0.0       0.0       0.0       0.0        0.0      0.0   \n",
      "3396  70.0    0        0.0       0.0       0.0       0.0        0.0      0.0   \n",
      "3397  55.0    1        0.0       0.0       0.0       0.0        0.0      2.0   \n",
      "3398  79.0    0        0.0       0.0       0.0       0.0        0.0      1.0   \n",
      "3399  63.0    1        0.0       0.0       0.0       0.0        0.0      0.0   \n",
      "\n",
      "     R_AB_2_n R_AB_3_n TIME_B_S ZSN  \n",
      "0         0.0      1.0      4.0   0  \n",
      "1         0.0      0.0      2.0   0  \n",
      "2         0.0      0.0      3.0   0  \n",
      "3         0.0      1.0      2.0   1  \n",
      "4         0.0      0.0      9.0   0  \n",
      "...       ...      ...      ...  ..  \n",
      "3395     None     None      2.0   0  \n",
      "3396     None     None      2.0   0  \n",
      "3397      0.0      0.0      1.0   0  \n",
      "3398     None     None      2.0   0  \n",
      "3399     None     None      1.0   0  \n",
      "\n",
      "[3400 rows x 12 columns]\n",
      "Sum of empty fields in age:    missing\n",
      "0       16\n",
      "Sum of empty fields in time:    missing\n",
      "0      252\n",
      "Sum of empty fields in endocr_01:    missing\n",
      "0       22\n",
      "Sum of empty fields in zab_leg_03:    missing\n",
      "0       14\n",
      "Sum of empty fields in R_AB_1_n:    missing\n",
      "0       32\n"
     ]
    }
   ],
   "source": [
    "conn = sqlite3.connect('dfcleaned.db')\n",
    "myocardial_infarction_data = pd.read_sql('''SELECT * FROM dfcleaned''', conn)\n",
    "age_null = pd.read_sql('''SELECT COUNT(*) AS missing \n",
    "FROM dfcleaned WHERE AGE IS NULL''', conn)\n",
    "time_null = pd.read_sql('''SELECT COUNT(*) AS missing \n",
    "FROM dfcleaned WHERE TIME_B_S IS NULL''', conn)\n",
    "endocr_01 = pd.read_sql('''SELECT COUNT(*) AS missing \n",
    "FROM dfcleaned WHERE endocr_01 IS NULL''', conn)\n",
    "zab_leg = pd.read_sql('''SELECT COUNT(*) AS missing \n",
    "FROM dfcleaned WHERE zab_leg_03 IS NULL''', conn)\n",
    "R_AB_1_n = pd.read_sql('''SELECT COUNT(*) AS missing \n",
    "FROM dfcleaned WHERE R_AB_1_n IS NULL''', conn)\n",
    "#print(\"Data seved to database\")\n",
    "conn.commit()\n",
    "conn.close()\n",
    "print(myocardial_infarction_data)\n",
    "# print total null values\n",
    "print('Sum of empty fields in age:', age_null)\n",
    "print('Sum of empty fields in time:', time_null)\n",
    "print('Sum of empty fields in endocr_01:', endocr_01)\n",
    "print('Sum of empty fields in zab_leg_03:', zab_leg)\n",
    "print('Sum of empty fields in R_AB_1_n:', R_AB_1_n)"
   ]
  },
  {
   "cell_type": "markdown",
   "metadata": {},
   "source": [
    "# DATA CLEANING"
   ]
  },
  {
   "cell_type": "code",
   "execution_count": 11,
   "metadata": {},
   "outputs": [
    {
     "name": "stdout",
     "output_type": "stream",
     "text": [
      "0       False\n",
      "1       False\n",
      "2       False\n",
      "3       False\n",
      "4       False\n",
      "        ...  \n",
      "1695     True\n",
      "1696     True\n",
      "1697    False\n",
      "1698    False\n",
      "1699    False\n",
      "Length: 1700, dtype: bool\n"
     ]
    },
    {
     "data": {
      "text/html": [
       "<div>\n",
       "<style scoped>\n",
       "    .dataframe tbody tr th:only-of-type {\n",
       "        vertical-align: middle;\n",
       "    }\n",
       "\n",
       "    .dataframe tbody tr th {\n",
       "        vertical-align: top;\n",
       "    }\n",
       "\n",
       "    .dataframe thead th {\n",
       "        text-align: right;\n",
       "    }\n",
       "</style>\n",
       "<table border=\"1\" class=\"dataframe\">\n",
       "  <thead>\n",
       "    <tr style=\"text-align: right;\">\n",
       "      <th></th>\n",
       "      <th>AGE</th>\n",
       "      <th>SEX</th>\n",
       "      <th>SIM_GIPERT</th>\n",
       "      <th>endocr_01</th>\n",
       "      <th>endocr_02</th>\n",
       "      <th>endocr_03</th>\n",
       "      <th>zab_leg_03</th>\n",
       "      <th>R_AB_1_n</th>\n",
       "      <th>R_AB_2_n</th>\n",
       "      <th>R_AB_3_n</th>\n",
       "      <th>TIME_B_S</th>\n",
       "      <th>ZSN</th>\n",
       "    </tr>\n",
       "  </thead>\n",
       "  <tbody>\n",
       "    <tr>\n",
       "      <th>0</th>\n",
       "      <td>77.0</td>\n",
       "      <td>1</td>\n",
       "      <td>0.0</td>\n",
       "      <td>0.0</td>\n",
       "      <td>0.0</td>\n",
       "      <td>0.0</td>\n",
       "      <td>0.0</td>\n",
       "      <td>0.0</td>\n",
       "      <td>0.0</td>\n",
       "      <td>1.0</td>\n",
       "      <td>4.0</td>\n",
       "      <td>0</td>\n",
       "    </tr>\n",
       "    <tr>\n",
       "      <th>1</th>\n",
       "      <td>55.0</td>\n",
       "      <td>1</td>\n",
       "      <td>0.0</td>\n",
       "      <td>0.0</td>\n",
       "      <td>0.0</td>\n",
       "      <td>0.0</td>\n",
       "      <td>0.0</td>\n",
       "      <td>0.0</td>\n",
       "      <td>0.0</td>\n",
       "      <td>0.0</td>\n",
       "      <td>2.0</td>\n",
       "      <td>0</td>\n",
       "    </tr>\n",
       "    <tr>\n",
       "      <th>2</th>\n",
       "      <td>52.0</td>\n",
       "      <td>1</td>\n",
       "      <td>0.0</td>\n",
       "      <td>0.0</td>\n",
       "      <td>0.0</td>\n",
       "      <td>0.0</td>\n",
       "      <td>0.0</td>\n",
       "      <td>3.0</td>\n",
       "      <td>0.0</td>\n",
       "      <td>0.0</td>\n",
       "      <td>3.0</td>\n",
       "      <td>0</td>\n",
       "    </tr>\n",
       "    <tr>\n",
       "      <th>3</th>\n",
       "      <td>68.0</td>\n",
       "      <td>0</td>\n",
       "      <td>0.0</td>\n",
       "      <td>0.0</td>\n",
       "      <td>0.0</td>\n",
       "      <td>0.0</td>\n",
       "      <td>0.0</td>\n",
       "      <td>0.0</td>\n",
       "      <td>0.0</td>\n",
       "      <td>1.0</td>\n",
       "      <td>2.0</td>\n",
       "      <td>1</td>\n",
       "    </tr>\n",
       "    <tr>\n",
       "      <th>4</th>\n",
       "      <td>60.0</td>\n",
       "      <td>1</td>\n",
       "      <td>0.0</td>\n",
       "      <td>0.0</td>\n",
       "      <td>0.0</td>\n",
       "      <td>0.0</td>\n",
       "      <td>0.0</td>\n",
       "      <td>0.0</td>\n",
       "      <td>0.0</td>\n",
       "      <td>0.0</td>\n",
       "      <td>9.0</td>\n",
       "      <td>0</td>\n",
       "    </tr>\n",
       "    <tr>\n",
       "      <th>...</th>\n",
       "      <td>...</td>\n",
       "      <td>...</td>\n",
       "      <td>...</td>\n",
       "      <td>...</td>\n",
       "      <td>...</td>\n",
       "      <td>...</td>\n",
       "      <td>...</td>\n",
       "      <td>...</td>\n",
       "      <td>...</td>\n",
       "      <td>...</td>\n",
       "      <td>...</td>\n",
       "      <td>...</td>\n",
       "    </tr>\n",
       "    <tr>\n",
       "      <th>1693</th>\n",
       "      <td>70.0</td>\n",
       "      <td>0</td>\n",
       "      <td>0.0</td>\n",
       "      <td>0.0</td>\n",
       "      <td>0.0</td>\n",
       "      <td>0.0</td>\n",
       "      <td>0.0</td>\n",
       "      <td>0.0</td>\n",
       "      <td>NaN</td>\n",
       "      <td>NaN</td>\n",
       "      <td>1.0</td>\n",
       "      <td>0</td>\n",
       "    </tr>\n",
       "    <tr>\n",
       "      <th>1694</th>\n",
       "      <td>77.0</td>\n",
       "      <td>0</td>\n",
       "      <td>0.0</td>\n",
       "      <td>0.0</td>\n",
       "      <td>0.0</td>\n",
       "      <td>0.0</td>\n",
       "      <td>0.0</td>\n",
       "      <td>0.0</td>\n",
       "      <td>0.0</td>\n",
       "      <td>0.0</td>\n",
       "      <td>3.0</td>\n",
       "      <td>0</td>\n",
       "    </tr>\n",
       "    <tr>\n",
       "      <th>1697</th>\n",
       "      <td>55.0</td>\n",
       "      <td>1</td>\n",
       "      <td>0.0</td>\n",
       "      <td>0.0</td>\n",
       "      <td>0.0</td>\n",
       "      <td>0.0</td>\n",
       "      <td>0.0</td>\n",
       "      <td>2.0</td>\n",
       "      <td>0.0</td>\n",
       "      <td>0.0</td>\n",
       "      <td>1.0</td>\n",
       "      <td>0</td>\n",
       "    </tr>\n",
       "    <tr>\n",
       "      <th>1698</th>\n",
       "      <td>79.0</td>\n",
       "      <td>0</td>\n",
       "      <td>0.0</td>\n",
       "      <td>0.0</td>\n",
       "      <td>0.0</td>\n",
       "      <td>0.0</td>\n",
       "      <td>0.0</td>\n",
       "      <td>1.0</td>\n",
       "      <td>NaN</td>\n",
       "      <td>NaN</td>\n",
       "      <td>2.0</td>\n",
       "      <td>0</td>\n",
       "    </tr>\n",
       "    <tr>\n",
       "      <th>1699</th>\n",
       "      <td>63.0</td>\n",
       "      <td>1</td>\n",
       "      <td>0.0</td>\n",
       "      <td>0.0</td>\n",
       "      <td>0.0</td>\n",
       "      <td>0.0</td>\n",
       "      <td>0.0</td>\n",
       "      <td>0.0</td>\n",
       "      <td>NaN</td>\n",
       "      <td>NaN</td>\n",
       "      <td>1.0</td>\n",
       "      <td>0</td>\n",
       "    </tr>\n",
       "  </tbody>\n",
       "</table>\n",
       "<p>1346 rows × 12 columns</p>\n",
       "</div>"
      ],
      "text/plain": [
       "       AGE  SEX  SIM_GIPERT  endocr_01  endocr_02  endocr_03  zab_leg_03  \\\n",
       "0     77.0    1         0.0        0.0        0.0        0.0         0.0   \n",
       "1     55.0    1         0.0        0.0        0.0        0.0         0.0   \n",
       "2     52.0    1         0.0        0.0        0.0        0.0         0.0   \n",
       "3     68.0    0         0.0        0.0        0.0        0.0         0.0   \n",
       "4     60.0    1         0.0        0.0        0.0        0.0         0.0   \n",
       "...    ...  ...         ...        ...        ...        ...         ...   \n",
       "1693  70.0    0         0.0        0.0        0.0        0.0         0.0   \n",
       "1694  77.0    0         0.0        0.0        0.0        0.0         0.0   \n",
       "1697  55.0    1         0.0        0.0        0.0        0.0         0.0   \n",
       "1698  79.0    0         0.0        0.0        0.0        0.0         0.0   \n",
       "1699  63.0    1         0.0        0.0        0.0        0.0         0.0   \n",
       "\n",
       "      R_AB_1_n  R_AB_2_n  R_AB_3_n  TIME_B_S  ZSN  \n",
       "0          0.0       0.0       1.0       4.0    0  \n",
       "1          0.0       0.0       0.0       2.0    0  \n",
       "2          3.0       0.0       0.0       3.0    0  \n",
       "3          0.0       0.0       1.0       2.0    1  \n",
       "4          0.0       0.0       0.0       9.0    0  \n",
       "...        ...       ...       ...       ...  ...  \n",
       "1693       0.0       NaN       NaN       1.0    0  \n",
       "1694       0.0       0.0       0.0       3.0    0  \n",
       "1697       2.0       0.0       0.0       1.0    0  \n",
       "1698       1.0       NaN       NaN       2.0    0  \n",
       "1699       0.0       NaN       NaN       1.0    0  \n",
       "\n",
       "[1346 rows x 12 columns]"
      ]
     },
     "execution_count": 11,
     "metadata": {},
     "output_type": "execute_result"
    }
   ],
   "source": [
    "# checking for dublicates\n",
    "print(dfcleaned.duplicated())\n",
    "# remove duplicated\n",
    "dfcleaned.drop_duplicates(subset=None, keep='first', inplace=False, ignore_index=False)"
   ]
  },
  {
   "cell_type": "code",
   "execution_count": 12,
   "metadata": {},
   "outputs": [],
   "source": [
    "df = dfcleaned.copy()\n",
    "df['AGE'] = df['AGE'].fillna(df['AGE'].mean())\n",
    "df['SIM_GIPERT'] = df['SIM_GIPERT'].fillna(df['SIM_GIPERT'].mode()[0])\n",
    "df['endocr_01'] = df['endocr_01'].fillna(df['endocr_01'].mode()[0])\n",
    "df['endocr_02'] = df['endocr_02'].fillna(df['endocr_02'].mode()[0])\n",
    "df['endocr_03'] = df['endocr_03'].fillna(df['endocr_03'].mode()[0])\n",
    "df['zab_leg_03'] = df['zab_leg_03'].fillna(df['zab_leg_03'].mode()[0])\n",
    "df['R_AB_1_n'] = df['R_AB_1_n'].fillna(df['R_AB_1_n'].mode()[0])\n",
    "df['R_AB_2_n'] = df['R_AB_2_n'].fillna(df['R_AB_2_n'].mode()[0])\n",
    "df['R_AB_3_n'] = df['R_AB_3_n'].fillna(df['R_AB_3_n'].mode()[0])\n",
    "df['TIME_B_S'] = df['TIME_B_S'].fillna(df['TIME_B_S'].mode()[0])"
   ]
  },
  {
   "cell_type": "code",
   "execution_count": 13,
   "metadata": {},
   "outputs": [
    {
     "data": {
      "text/plain": [
       "AGE           0\n",
       "SEX           0\n",
       "SIM_GIPERT    0\n",
       "endocr_01     0\n",
       "endocr_02     0\n",
       "endocr_03     0\n",
       "zab_leg_03    0\n",
       "R_AB_1_n      0\n",
       "R_AB_2_n      0\n",
       "R_AB_3_n      0\n",
       "TIME_B_S      0\n",
       "ZSN           0\n",
       "dtype: int64"
      ]
     },
     "execution_count": 13,
     "metadata": {},
     "output_type": "execute_result"
    }
   ],
   "source": [
    "df.isnull().sum()"
   ]
  },
  {
   "cell_type": "code",
   "execution_count": 14,
   "metadata": {},
   "outputs": [
    {
     "data": {
      "text/html": [
       "<div>\n",
       "<style scoped>\n",
       "    .dataframe tbody tr th:only-of-type {\n",
       "        vertical-align: middle;\n",
       "    }\n",
       "\n",
       "    .dataframe tbody tr th {\n",
       "        vertical-align: top;\n",
       "    }\n",
       "\n",
       "    .dataframe thead th {\n",
       "        text-align: right;\n",
       "    }\n",
       "</style>\n",
       "<table border=\"1\" class=\"dataframe\">\n",
       "  <thead>\n",
       "    <tr style=\"text-align: right;\">\n",
       "      <th></th>\n",
       "      <th>AGE</th>\n",
       "      <th>SEX</th>\n",
       "      <th>SIM_GIPERT</th>\n",
       "      <th>endocr_01</th>\n",
       "      <th>endocr_02</th>\n",
       "      <th>endocr_03</th>\n",
       "      <th>zab_leg_03</th>\n",
       "      <th>R_AB_1_n</th>\n",
       "      <th>R_AB_2_n</th>\n",
       "      <th>R_AB_3_n</th>\n",
       "      <th>TIME_B_S</th>\n",
       "      <th>ZSN</th>\n",
       "    </tr>\n",
       "  </thead>\n",
       "  <tbody>\n",
       "    <tr>\n",
       "      <th>0</th>\n",
       "      <td>77.0</td>\n",
       "      <td>1</td>\n",
       "      <td>0.0</td>\n",
       "      <td>0.0</td>\n",
       "      <td>0.0</td>\n",
       "      <td>0.0</td>\n",
       "      <td>0.0</td>\n",
       "      <td>0.0</td>\n",
       "      <td>0.0</td>\n",
       "      <td>1.0</td>\n",
       "      <td>4.0</td>\n",
       "      <td>0</td>\n",
       "    </tr>\n",
       "    <tr>\n",
       "      <th>1</th>\n",
       "      <td>55.0</td>\n",
       "      <td>1</td>\n",
       "      <td>0.0</td>\n",
       "      <td>0.0</td>\n",
       "      <td>0.0</td>\n",
       "      <td>0.0</td>\n",
       "      <td>0.0</td>\n",
       "      <td>0.0</td>\n",
       "      <td>0.0</td>\n",
       "      <td>0.0</td>\n",
       "      <td>2.0</td>\n",
       "      <td>0</td>\n",
       "    </tr>\n",
       "    <tr>\n",
       "      <th>2</th>\n",
       "      <td>52.0</td>\n",
       "      <td>1</td>\n",
       "      <td>0.0</td>\n",
       "      <td>0.0</td>\n",
       "      <td>0.0</td>\n",
       "      <td>0.0</td>\n",
       "      <td>0.0</td>\n",
       "      <td>3.0</td>\n",
       "      <td>0.0</td>\n",
       "      <td>0.0</td>\n",
       "      <td>3.0</td>\n",
       "      <td>0</td>\n",
       "    </tr>\n",
       "    <tr>\n",
       "      <th>3</th>\n",
       "      <td>68.0</td>\n",
       "      <td>0</td>\n",
       "      <td>0.0</td>\n",
       "      <td>0.0</td>\n",
       "      <td>0.0</td>\n",
       "      <td>0.0</td>\n",
       "      <td>0.0</td>\n",
       "      <td>0.0</td>\n",
       "      <td>0.0</td>\n",
       "      <td>1.0</td>\n",
       "      <td>2.0</td>\n",
       "      <td>1</td>\n",
       "    </tr>\n",
       "    <tr>\n",
       "      <th>4</th>\n",
       "      <td>60.0</td>\n",
       "      <td>1</td>\n",
       "      <td>0.0</td>\n",
       "      <td>0.0</td>\n",
       "      <td>0.0</td>\n",
       "      <td>0.0</td>\n",
       "      <td>0.0</td>\n",
       "      <td>0.0</td>\n",
       "      <td>0.0</td>\n",
       "      <td>0.0</td>\n",
       "      <td>9.0</td>\n",
       "      <td>0</td>\n",
       "    </tr>\n",
       "    <tr>\n",
       "      <th>...</th>\n",
       "      <td>...</td>\n",
       "      <td>...</td>\n",
       "      <td>...</td>\n",
       "      <td>...</td>\n",
       "      <td>...</td>\n",
       "      <td>...</td>\n",
       "      <td>...</td>\n",
       "      <td>...</td>\n",
       "      <td>...</td>\n",
       "      <td>...</td>\n",
       "      <td>...</td>\n",
       "      <td>...</td>\n",
       "    </tr>\n",
       "    <tr>\n",
       "      <th>1695</th>\n",
       "      <td>77.0</td>\n",
       "      <td>0</td>\n",
       "      <td>0.0</td>\n",
       "      <td>0.0</td>\n",
       "      <td>0.0</td>\n",
       "      <td>0.0</td>\n",
       "      <td>0.0</td>\n",
       "      <td>0.0</td>\n",
       "      <td>0.0</td>\n",
       "      <td>0.0</td>\n",
       "      <td>2.0</td>\n",
       "      <td>0</td>\n",
       "    </tr>\n",
       "    <tr>\n",
       "      <th>1696</th>\n",
       "      <td>70.0</td>\n",
       "      <td>0</td>\n",
       "      <td>0.0</td>\n",
       "      <td>0.0</td>\n",
       "      <td>0.0</td>\n",
       "      <td>0.0</td>\n",
       "      <td>0.0</td>\n",
       "      <td>0.0</td>\n",
       "      <td>0.0</td>\n",
       "      <td>0.0</td>\n",
       "      <td>2.0</td>\n",
       "      <td>0</td>\n",
       "    </tr>\n",
       "    <tr>\n",
       "      <th>1697</th>\n",
       "      <td>55.0</td>\n",
       "      <td>1</td>\n",
       "      <td>0.0</td>\n",
       "      <td>0.0</td>\n",
       "      <td>0.0</td>\n",
       "      <td>0.0</td>\n",
       "      <td>0.0</td>\n",
       "      <td>2.0</td>\n",
       "      <td>0.0</td>\n",
       "      <td>0.0</td>\n",
       "      <td>1.0</td>\n",
       "      <td>0</td>\n",
       "    </tr>\n",
       "    <tr>\n",
       "      <th>1698</th>\n",
       "      <td>79.0</td>\n",
       "      <td>0</td>\n",
       "      <td>0.0</td>\n",
       "      <td>0.0</td>\n",
       "      <td>0.0</td>\n",
       "      <td>0.0</td>\n",
       "      <td>0.0</td>\n",
       "      <td>1.0</td>\n",
       "      <td>0.0</td>\n",
       "      <td>0.0</td>\n",
       "      <td>2.0</td>\n",
       "      <td>0</td>\n",
       "    </tr>\n",
       "    <tr>\n",
       "      <th>1699</th>\n",
       "      <td>63.0</td>\n",
       "      <td>1</td>\n",
       "      <td>0.0</td>\n",
       "      <td>0.0</td>\n",
       "      <td>0.0</td>\n",
       "      <td>0.0</td>\n",
       "      <td>0.0</td>\n",
       "      <td>0.0</td>\n",
       "      <td>0.0</td>\n",
       "      <td>0.0</td>\n",
       "      <td>1.0</td>\n",
       "      <td>0</td>\n",
       "    </tr>\n",
       "  </tbody>\n",
       "</table>\n",
       "<p>1700 rows × 12 columns</p>\n",
       "</div>"
      ],
      "text/plain": [
       "       AGE  SEX  SIM_GIPERT  endocr_01  endocr_02  endocr_03  zab_leg_03  \\\n",
       "0     77.0    1         0.0        0.0        0.0        0.0         0.0   \n",
       "1     55.0    1         0.0        0.0        0.0        0.0         0.0   \n",
       "2     52.0    1         0.0        0.0        0.0        0.0         0.0   \n",
       "3     68.0    0         0.0        0.0        0.0        0.0         0.0   \n",
       "4     60.0    1         0.0        0.0        0.0        0.0         0.0   \n",
       "...    ...  ...         ...        ...        ...        ...         ...   \n",
       "1695  77.0    0         0.0        0.0        0.0        0.0         0.0   \n",
       "1696  70.0    0         0.0        0.0        0.0        0.0         0.0   \n",
       "1697  55.0    1         0.0        0.0        0.0        0.0         0.0   \n",
       "1698  79.0    0         0.0        0.0        0.0        0.0         0.0   \n",
       "1699  63.0    1         0.0        0.0        0.0        0.0         0.0   \n",
       "\n",
       "      R_AB_1_n  R_AB_2_n  R_AB_3_n  TIME_B_S  ZSN  \n",
       "0          0.0       0.0       1.0       4.0    0  \n",
       "1          0.0       0.0       0.0       2.0    0  \n",
       "2          3.0       0.0       0.0       3.0    0  \n",
       "3          0.0       0.0       1.0       2.0    1  \n",
       "4          0.0       0.0       0.0       9.0    0  \n",
       "...        ...       ...       ...       ...  ...  \n",
       "1695       0.0       0.0       0.0       2.0    0  \n",
       "1696       0.0       0.0       0.0       2.0    0  \n",
       "1697       2.0       0.0       0.0       1.0    0  \n",
       "1698       1.0       0.0       0.0       2.0    0  \n",
       "1699       0.0       0.0       0.0       1.0    0  \n",
       "\n",
       "[1700 rows x 12 columns]"
      ]
     },
     "execution_count": 14,
     "metadata": {},
     "output_type": "execute_result"
    }
   ],
   "source": [
    "df"
   ]
  },
  {
   "cell_type": "markdown",
   "metadata": {},
   "source": [
    "# NORMALITY TESTS"
   ]
  },
  {
   "cell_type": "code",
   "execution_count": 15,
   "metadata": {},
   "outputs": [
    {
     "name": "stdout",
     "output_type": "stream",
     "text": [
      "<class 'pandas.core.frame.DataFrame'>\n",
      "RangeIndex: 1700 entries, 0 to 1699\n",
      "Data columns (total 12 columns):\n",
      " #   Column      Non-Null Count  Dtype\n",
      "---  ------      --------------  -----\n",
      " 0   AGE         1700 non-null   int8 \n",
      " 1   SEX         1700 non-null   int8 \n",
      " 2   SIM_GIPERT  1700 non-null   int8 \n",
      " 3   endocr_01   1700 non-null   int8 \n",
      " 4   endocr_02   1700 non-null   int8 \n",
      " 5   endocr_03   1700 non-null   int8 \n",
      " 6   zab_leg_03  1700 non-null   int8 \n",
      " 7   R_AB_1_n    1700 non-null   int8 \n",
      " 8   R_AB_2_n    1700 non-null   int8 \n",
      " 9   R_AB_3_n    1700 non-null   int8 \n",
      " 10  TIME_B_S    1700 non-null   int8 \n",
      " 11  ZSN         1700 non-null   int8 \n",
      "dtypes: int8(12)\n",
      "memory usage: 20.0 KB\n",
      "None\n"
     ]
    }
   ],
   "source": [
    "from scipy.stats import normaltest\n",
    "\n",
    "df_nom = df.copy()\n",
    "# convert to numerical\n",
    "df_nom = df_nom.astype('category')\n",
    "\n",
    "wd_column = df_nom.select_dtypes(['category']).columns\n",
    "df_nom[wd_column] = df_nom[wd_column].apply(lambda x: x.cat.codes)\n",
    "print(df_nom.info())"
   ]
  },
  {
   "cell_type": "code",
   "execution_count": 16,
   "metadata": {},
   "outputs": [
    {
     "name": "stdout",
     "output_type": "stream",
     "text": [
      "Statistics = 1.000, p = 0.000\n",
      "CHD data does not look Gaussian (reject H0)\n"
     ]
    }
   ],
   "source": [
    "# normality test\n",
    "from scipy.stats import normaltest\n",
    "\n",
    "stat, p = normaltest(df_nom)\n",
    "print('Statistics = %.3f, p = %.3f' % (stat.all(), p.all()))\n",
    "# interpret results\n",
    "alpha = 0.05\n",
    "if p.all() > alpha:\n",
    "    print('CHD data looks Gaussian (fail to reject H0)')\n",
    "else:\n",
    "    print('CHD data does not look Gaussian (reject H0)')"
   ]
  },
  {
   "cell_type": "code",
   "execution_count": 17,
   "metadata": {},
   "outputs": [
    {
     "name": "stdout",
     "output_type": "stream",
     "text": [
      "Statistics=0.369, p=0.000\n",
      "Sample does not look Gaussian (reject H0)\n"
     ]
    }
   ],
   "source": [
    "# using the shapiro package\n",
    "\n",
    "from scipy.stats import shapiro\n",
    "# normality test\n",
    "stat, p = shapiro(df_nom)\n",
    "print('Statistics=%.3f, p=%.3f' % (stat, p))\n",
    "# interpret\n",
    "alpha = 0.05\n",
    "if p > alpha:\n",
    "\tprint('Sample looks Gaussian (fail to reject H0)')\n",
    "else:\n",
    "\tprint('Sample does not look Gaussian (reject H0)')"
   ]
  },
  {
   "cell_type": "markdown",
   "metadata": {},
   "source": [
    "# STATISTICAL TESTS"
   ]
  },
  {
   "cell_type": "code",
   "execution_count": 18,
   "metadata": {},
   "outputs": [],
   "source": [
    "import MySQLdb\n",
    "import matplotlib.pyplot as plt\n",
    "import pandas as pd\n",
    "import numpy as np\n",
    "from scipy import stats\n",
    "import seaborn as sns\n",
    "from sklearn.model_selection import train_test_split\n",
    "from scipy.stats import pearsonr\n",
    "from scipy.stats import spearmanr\n",
    "from scipy.stats import kendalltau\n",
    "import pandas as pd\n",
    "from scipy.stats import pointbiserialr\n",
    "from matplotlib import pyplot as plt\n",
    "import seaborn as sns"
   ]
  },
  {
   "cell_type": "code",
   "execution_count": 19,
   "metadata": {},
   "outputs": [],
   "source": [
    "df.to_csv('df.csv', encoding='utf-8')"
   ]
  },
  {
   "cell_type": "code",
   "execution_count": 20,
   "metadata": {},
   "outputs": [
    {
     "name": "stdout",
     "output_type": "stream",
     "text": [
      "(0.03908835027446642, 0.10716136580762094)\n",
      "SpearmanrResult(correlation=0.057832186264899756, pvalue=0.01709192755843108)\n",
      "KendalltauResult(correlation=0.05648394839712572, pvalue=0.017135810302574276)\n"
     ]
    }
   ],
   "source": [
    "print(stats.pearsonr(df['ZSN'], df['R_AB_1_n']))\n",
    "print(stats.spearmanr(df['ZSN'], df['R_AB_1_n']))\n",
    "print(stats.kendalltau(df['ZSN'], df['R_AB_1_n']))"
   ]
  },
  {
   "cell_type": "markdown",
   "metadata": {},
   "source": [
    "# POINT BISERIAL CORRELATION"
   ]
  },
  {
   "cell_type": "code",
   "execution_count": 21,
   "metadata": {},
   "outputs": [
    {
     "name": "stdout",
     "output_type": "stream",
     "text": [
      "PointbiserialrResult(correlation=0.03908835027446642, pvalue=0.10716136580762094)\n"
     ]
    }
   ],
   "source": [
    "# get data\n",
    "data = pd.read_csv('df.csv')\n",
    "\n",
    "# get continuous and dichotomous data\n",
    "CHD = data['ZSN']\n",
    "TIME = data['R_AB_1_n']\n",
    "\n",
    "# pbc of first question\n",
    "pbc = pointbiserialr(TIME, CHD)\n",
    "print(pbc)"
   ]
  },
  {
   "cell_type": "code",
   "execution_count": 22,
   "metadata": {},
   "outputs": [
    {
     "name": "stdout",
     "output_type": "stream",
     "text": [
      "PointbiserialrResult(correlation=0.06120047804225879, pvalue=0.011607074242966104)\n"
     ]
    }
   ],
   "source": [
    "# get data\n",
    "data = pd.read_csv('df.csv')\n",
    "\n",
    "# get continuous and dichotomous data\n",
    "CHD = data['ZSN']\n",
    "TIME = data['R_AB_2_n']\n",
    "\n",
    "# pbc of first question\n",
    "pbc = pointbiserialr(TIME, CHD)\n",
    "print(pbc)"
   ]
  },
  {
   "cell_type": "code",
   "execution_count": 23,
   "metadata": {},
   "outputs": [
    {
     "name": "stdout",
     "output_type": "stream",
     "text": [
      "PointbiserialrResult(correlation=0.08637963540368981, pvalue=0.00036306639535585954)\n"
     ]
    }
   ],
   "source": [
    "# get data\n",
    "data = pd.read_csv('df.csv')\n",
    "\n",
    "# get continuous and dichotomous data\n",
    "CHD = data['ZSN']\n",
    "TIME = data['R_AB_3_n']\n",
    "\n",
    "# pbc of first question\n",
    "pbc = pointbiserialr(TIME, CHD)\n",
    "print(pbc)"
   ]
  },
  {
   "cell_type": "code",
   "execution_count": 24,
   "metadata": {},
   "outputs": [
    {
     "data": {
      "text/html": [
       "<div>\n",
       "<style scoped>\n",
       "    .dataframe tbody tr th:only-of-type {\n",
       "        vertical-align: middle;\n",
       "    }\n",
       "\n",
       "    .dataframe tbody tr th {\n",
       "        vertical-align: top;\n",
       "    }\n",
       "\n",
       "    .dataframe thead th {\n",
       "        text-align: right;\n",
       "    }\n",
       "</style>\n",
       "<table border=\"1\" class=\"dataframe\">\n",
       "  <thead>\n",
       "    <tr style=\"text-align: right;\">\n",
       "      <th></th>\n",
       "      <th>AGE</th>\n",
       "      <th>SEX</th>\n",
       "      <th>SIM_GIPERT</th>\n",
       "      <th>endocr_01</th>\n",
       "      <th>endocr_02</th>\n",
       "      <th>endocr_03</th>\n",
       "      <th>zab_leg_03</th>\n",
       "      <th>R_AB_1_n</th>\n",
       "      <th>R_AB_2_n</th>\n",
       "      <th>R_AB_3_n</th>\n",
       "      <th>TIME_B_S</th>\n",
       "      <th>ZSN</th>\n",
       "    </tr>\n",
       "  </thead>\n",
       "  <tbody>\n",
       "    <tr>\n",
       "      <th>AGE</th>\n",
       "      <td>1.000000</td>\n",
       "      <td>-0.404552</td>\n",
       "      <td>-0.024671</td>\n",
       "      <td>0.147178</td>\n",
       "      <td>0.021824</td>\n",
       "      <td>0.030622</td>\n",
       "      <td>0.071985</td>\n",
       "      <td>0.010766</td>\n",
       "      <td>0.017781</td>\n",
       "      <td>0.045639</td>\n",
       "      <td>-0.032995</td>\n",
       "      <td>0.143553</td>\n",
       "    </tr>\n",
       "    <tr>\n",
       "      <th>SEX</th>\n",
       "      <td>-0.404552</td>\n",
       "      <td>1.000000</td>\n",
       "      <td>-0.065584</td>\n",
       "      <td>-0.259901</td>\n",
       "      <td>-0.104281</td>\n",
       "      <td>-0.099726</td>\n",
       "      <td>-0.009829</td>\n",
       "      <td>-0.031709</td>\n",
       "      <td>-0.004226</td>\n",
       "      <td>-0.063351</td>\n",
       "      <td>0.009018</td>\n",
       "      <td>-0.097490</td>\n",
       "    </tr>\n",
       "    <tr>\n",
       "      <th>SIM_GIPERT</th>\n",
       "      <td>-0.024671</td>\n",
       "      <td>-0.065584</td>\n",
       "      <td>1.000000</td>\n",
       "      <td>0.080119</td>\n",
       "      <td>0.096662</td>\n",
       "      <td>-0.016351</td>\n",
       "      <td>0.017007</td>\n",
       "      <td>-0.004195</td>\n",
       "      <td>-0.031379</td>\n",
       "      <td>0.021305</td>\n",
       "      <td>0.007975</td>\n",
       "      <td>-0.001631</td>\n",
       "    </tr>\n",
       "    <tr>\n",
       "      <th>endocr_01</th>\n",
       "      <td>0.147178</td>\n",
       "      <td>-0.259901</td>\n",
       "      <td>0.080119</td>\n",
       "      <td>1.000000</td>\n",
       "      <td>0.070803</td>\n",
       "      <td>-0.034548</td>\n",
       "      <td>-0.011385</td>\n",
       "      <td>0.026290</td>\n",
       "      <td>0.056064</td>\n",
       "      <td>0.045017</td>\n",
       "      <td>0.032116</td>\n",
       "      <td>0.127460</td>\n",
       "    </tr>\n",
       "    <tr>\n",
       "      <th>endocr_02</th>\n",
       "      <td>0.021824</td>\n",
       "      <td>-0.104281</td>\n",
       "      <td>0.096662</td>\n",
       "      <td>0.070803</td>\n",
       "      <td>1.000000</td>\n",
       "      <td>-0.013972</td>\n",
       "      <td>-0.023740</td>\n",
       "      <td>0.050944</td>\n",
       "      <td>-0.004938</td>\n",
       "      <td>-0.008967</td>\n",
       "      <td>-0.013517</td>\n",
       "      <td>0.029330</td>\n",
       "    </tr>\n",
       "    <tr>\n",
       "      <th>endocr_03</th>\n",
       "      <td>0.030622</td>\n",
       "      <td>-0.099726</td>\n",
       "      <td>-0.016351</td>\n",
       "      <td>-0.034548</td>\n",
       "      <td>-0.013972</td>\n",
       "      <td>1.000000</td>\n",
       "      <td>-0.013094</td>\n",
       "      <td>-0.015390</td>\n",
       "      <td>-0.008540</td>\n",
       "      <td>-0.022288</td>\n",
       "      <td>-0.013005</td>\n",
       "      <td>-0.016210</td>\n",
       "    </tr>\n",
       "    <tr>\n",
       "      <th>zab_leg_03</th>\n",
       "      <td>0.071985</td>\n",
       "      <td>-0.009829</td>\n",
       "      <td>0.017007</td>\n",
       "      <td>-0.011385</td>\n",
       "      <td>-0.023740</td>\n",
       "      <td>-0.013094</td>\n",
       "      <td>1.000000</td>\n",
       "      <td>0.030533</td>\n",
       "      <td>-0.050951</td>\n",
       "      <td>-0.003418</td>\n",
       "      <td>0.000760</td>\n",
       "      <td>0.023165</td>\n",
       "    </tr>\n",
       "    <tr>\n",
       "      <th>R_AB_1_n</th>\n",
       "      <td>0.010766</td>\n",
       "      <td>-0.031709</td>\n",
       "      <td>-0.004195</td>\n",
       "      <td>0.026290</td>\n",
       "      <td>0.050944</td>\n",
       "      <td>-0.015390</td>\n",
       "      <td>0.030533</td>\n",
       "      <td>1.000000</td>\n",
       "      <td>0.189397</td>\n",
       "      <td>0.151246</td>\n",
       "      <td>-0.101485</td>\n",
       "      <td>0.057832</td>\n",
       "    </tr>\n",
       "    <tr>\n",
       "      <th>R_AB_2_n</th>\n",
       "      <td>0.017781</td>\n",
       "      <td>-0.004226</td>\n",
       "      <td>-0.031379</td>\n",
       "      <td>0.056064</td>\n",
       "      <td>-0.004938</td>\n",
       "      <td>-0.008540</td>\n",
       "      <td>-0.050951</td>\n",
       "      <td>0.189397</td>\n",
       "      <td>1.000000</td>\n",
       "      <td>0.231892</td>\n",
       "      <td>-0.038732</td>\n",
       "      <td>0.055088</td>\n",
       "    </tr>\n",
       "    <tr>\n",
       "      <th>R_AB_3_n</th>\n",
       "      <td>0.045639</td>\n",
       "      <td>-0.063351</td>\n",
       "      <td>0.021305</td>\n",
       "      <td>0.045017</td>\n",
       "      <td>-0.008967</td>\n",
       "      <td>-0.022288</td>\n",
       "      <td>-0.003418</td>\n",
       "      <td>0.151246</td>\n",
       "      <td>0.231892</td>\n",
       "      <td>1.000000</td>\n",
       "      <td>-0.033868</td>\n",
       "      <td>0.088873</td>\n",
       "    </tr>\n",
       "    <tr>\n",
       "      <th>TIME_B_S</th>\n",
       "      <td>-0.032995</td>\n",
       "      <td>0.009018</td>\n",
       "      <td>0.007975</td>\n",
       "      <td>0.032116</td>\n",
       "      <td>-0.013517</td>\n",
       "      <td>-0.013005</td>\n",
       "      <td>0.000760</td>\n",
       "      <td>-0.101485</td>\n",
       "      <td>-0.038732</td>\n",
       "      <td>-0.033868</td>\n",
       "      <td>1.000000</td>\n",
       "      <td>-0.007865</td>\n",
       "    </tr>\n",
       "    <tr>\n",
       "      <th>ZSN</th>\n",
       "      <td>0.143553</td>\n",
       "      <td>-0.097490</td>\n",
       "      <td>-0.001631</td>\n",
       "      <td>0.127460</td>\n",
       "      <td>0.029330</td>\n",
       "      <td>-0.016210</td>\n",
       "      <td>0.023165</td>\n",
       "      <td>0.057832</td>\n",
       "      <td>0.055088</td>\n",
       "      <td>0.088873</td>\n",
       "      <td>-0.007865</td>\n",
       "      <td>1.000000</td>\n",
       "    </tr>\n",
       "  </tbody>\n",
       "</table>\n",
       "</div>"
      ],
      "text/plain": [
       "                 AGE       SEX  SIM_GIPERT  endocr_01  endocr_02  endocr_03  \\\n",
       "AGE         1.000000 -0.404552   -0.024671   0.147178   0.021824   0.030622   \n",
       "SEX        -0.404552  1.000000   -0.065584  -0.259901  -0.104281  -0.099726   \n",
       "SIM_GIPERT -0.024671 -0.065584    1.000000   0.080119   0.096662  -0.016351   \n",
       "endocr_01   0.147178 -0.259901    0.080119   1.000000   0.070803  -0.034548   \n",
       "endocr_02   0.021824 -0.104281    0.096662   0.070803   1.000000  -0.013972   \n",
       "endocr_03   0.030622 -0.099726   -0.016351  -0.034548  -0.013972   1.000000   \n",
       "zab_leg_03  0.071985 -0.009829    0.017007  -0.011385  -0.023740  -0.013094   \n",
       "R_AB_1_n    0.010766 -0.031709   -0.004195   0.026290   0.050944  -0.015390   \n",
       "R_AB_2_n    0.017781 -0.004226   -0.031379   0.056064  -0.004938  -0.008540   \n",
       "R_AB_3_n    0.045639 -0.063351    0.021305   0.045017  -0.008967  -0.022288   \n",
       "TIME_B_S   -0.032995  0.009018    0.007975   0.032116  -0.013517  -0.013005   \n",
       "ZSN         0.143553 -0.097490   -0.001631   0.127460   0.029330  -0.016210   \n",
       "\n",
       "            zab_leg_03  R_AB_1_n  R_AB_2_n  R_AB_3_n  TIME_B_S       ZSN  \n",
       "AGE           0.071985  0.010766  0.017781  0.045639 -0.032995  0.143553  \n",
       "SEX          -0.009829 -0.031709 -0.004226 -0.063351  0.009018 -0.097490  \n",
       "SIM_GIPERT    0.017007 -0.004195 -0.031379  0.021305  0.007975 -0.001631  \n",
       "endocr_01    -0.011385  0.026290  0.056064  0.045017  0.032116  0.127460  \n",
       "endocr_02    -0.023740  0.050944 -0.004938 -0.008967 -0.013517  0.029330  \n",
       "endocr_03    -0.013094 -0.015390 -0.008540 -0.022288 -0.013005 -0.016210  \n",
       "zab_leg_03    1.000000  0.030533 -0.050951 -0.003418  0.000760  0.023165  \n",
       "R_AB_1_n      0.030533  1.000000  0.189397  0.151246 -0.101485  0.057832  \n",
       "R_AB_2_n     -0.050951  0.189397  1.000000  0.231892 -0.038732  0.055088  \n",
       "R_AB_3_n     -0.003418  0.151246  0.231892  1.000000 -0.033868  0.088873  \n",
       "TIME_B_S      0.000760 -0.101485 -0.038732 -0.033868  1.000000 -0.007865  \n",
       "ZSN           0.023165  0.057832  0.055088  0.088873 -0.007865  1.000000  "
      ]
     },
     "execution_count": 24,
     "metadata": {},
     "output_type": "execute_result"
    }
   ],
   "source": [
    "df.corr(method= 'spearman')"
   ]
  },
  {
   "cell_type": "code",
   "execution_count": 25,
   "metadata": {},
   "outputs": [
    {
     "data": {
      "image/png": "[encoded data removed]",
      "text/plain": [
       "<Figure size 2736x1152 with 2 Axes>"
      ]
     },
     "metadata": {
      "needs_background": "light"
     },
     "output_type": "display_data"
    }
   ],
   "source": [
    "plt.figure(figsize = (38,16))\n",
    "sns.heatmap(df.corr(), annot = True)\n",
    "plt.savefig('heatmap.png')\n",
    "plt.show()"
   ]
  },
  {
   "cell_type": "markdown",
   "metadata": {},
   "source": [
    "# DESCRIPTIVE STATISTICS"
   ]
  },
  {
   "cell_type": "code",
   "execution_count": 26,
   "metadata": {},
   "outputs": [
    {
     "data": {
      "text/html": [
       "<div>\n",
       "<style scoped>\n",
       "    .dataframe tbody tr th:only-of-type {\n",
       "        vertical-align: middle;\n",
       "    }\n",
       "\n",
       "    .dataframe tbody tr th {\n",
       "        vertical-align: top;\n",
       "    }\n",
       "\n",
       "    .dataframe thead th {\n",
       "        text-align: right;\n",
       "    }\n",
       "</style>\n",
       "<table border=\"1\" class=\"dataframe\">\n",
       "  <thead>\n",
       "    <tr style=\"text-align: right;\">\n",
       "      <th></th>\n",
       "      <th>SEX</th>\n",
       "      <th>SIM_GIPERT</th>\n",
       "      <th>endocr_01</th>\n",
       "      <th>endocr_02</th>\n",
       "      <th>endocr_03</th>\n",
       "      <th>zab_leg_03</th>\n",
       "      <th>R_AB_1_n</th>\n",
       "    </tr>\n",
       "  </thead>\n",
       "  <tbody>\n",
       "    <tr>\n",
       "      <th>count</th>\n",
       "      <td>1700.000000</td>\n",
       "      <td>1700.000000</td>\n",
       "      <td>1700.000000</td>\n",
       "      <td>1700.000000</td>\n",
       "      <td>1700.000000</td>\n",
       "      <td>1700.000000</td>\n",
       "      <td>1700.000000</td>\n",
       "    </tr>\n",
       "    <tr>\n",
       "      <th>mean</th>\n",
       "      <td>0.626471</td>\n",
       "      <td>0.033529</td>\n",
       "      <td>0.134118</td>\n",
       "      <td>0.024706</td>\n",
       "      <td>0.007647</td>\n",
       "      <td>0.021765</td>\n",
       "      <td>0.312941</td>\n",
       "    </tr>\n",
       "    <tr>\n",
       "      <th>std</th>\n",
       "      <td>0.483883</td>\n",
       "      <td>0.180067</td>\n",
       "      <td>0.340879</td>\n",
       "      <td>0.155273</td>\n",
       "      <td>0.087138</td>\n",
       "      <td>0.145957</td>\n",
       "      <td>0.631485</td>\n",
       "    </tr>\n",
       "    <tr>\n",
       "      <th>min</th>\n",
       "      <td>0.000000</td>\n",
       "      <td>0.000000</td>\n",
       "      <td>0.000000</td>\n",
       "      <td>0.000000</td>\n",
       "      <td>0.000000</td>\n",
       "      <td>0.000000</td>\n",
       "      <td>0.000000</td>\n",
       "    </tr>\n",
       "    <tr>\n",
       "      <th>25%</th>\n",
       "      <td>0.000000</td>\n",
       "      <td>0.000000</td>\n",
       "      <td>0.000000</td>\n",
       "      <td>0.000000</td>\n",
       "      <td>0.000000</td>\n",
       "      <td>0.000000</td>\n",
       "      <td>0.000000</td>\n",
       "    </tr>\n",
       "    <tr>\n",
       "      <th>50%</th>\n",
       "      <td>1.000000</td>\n",
       "      <td>0.000000</td>\n",
       "      <td>0.000000</td>\n",
       "      <td>0.000000</td>\n",
       "      <td>0.000000</td>\n",
       "      <td>0.000000</td>\n",
       "      <td>0.000000</td>\n",
       "    </tr>\n",
       "    <tr>\n",
       "      <th>75%</th>\n",
       "      <td>1.000000</td>\n",
       "      <td>0.000000</td>\n",
       "      <td>0.000000</td>\n",
       "      <td>0.000000</td>\n",
       "      <td>0.000000</td>\n",
       "      <td>0.000000</td>\n",
       "      <td>0.000000</td>\n",
       "    </tr>\n",
       "    <tr>\n",
       "      <th>max</th>\n",
       "      <td>1.000000</td>\n",
       "      <td>1.000000</td>\n",
       "      <td>1.000000</td>\n",
       "      <td>1.000000</td>\n",
       "      <td>1.000000</td>\n",
       "      <td>1.000000</td>\n",
       "      <td>3.000000</td>\n",
       "    </tr>\n",
       "  </tbody>\n",
       "</table>\n",
       "</div>"
      ],
      "text/plain": [
       "               SEX   SIM_GIPERT    endocr_01    endocr_02    endocr_03  \\\n",
       "count  1700.000000  1700.000000  1700.000000  1700.000000  1700.000000   \n",
       "mean      0.626471     0.033529     0.134118     0.024706     0.007647   \n",
       "std       0.483883     0.180067     0.340879     0.155273     0.087138   \n",
       "min       0.000000     0.000000     0.000000     0.000000     0.000000   \n",
       "25%       0.000000     0.000000     0.000000     0.000000     0.000000   \n",
       "50%       1.000000     0.000000     0.000000     0.000000     0.000000   \n",
       "75%       1.000000     0.000000     0.000000     0.000000     0.000000   \n",
       "max       1.000000     1.000000     1.000000     1.000000     1.000000   \n",
       "\n",
       "        zab_leg_03     R_AB_1_n  \n",
       "count  1700.000000  1700.000000  \n",
       "mean      0.021765     0.312941  \n",
       "std       0.145957     0.631485  \n",
       "min       0.000000     0.000000  \n",
       "25%       0.000000     0.000000  \n",
       "50%       0.000000     0.000000  \n",
       "75%       0.000000     0.000000  \n",
       "max       1.000000     3.000000  "
      ]
     },
     "execution_count": 26,
     "metadata": {},
     "output_type": "execute_result"
    }
   ],
   "source": [
    "df.iloc[:, 1:8].describe()"
   ]
  },
  {
   "cell_type": "code",
   "execution_count": 27,
   "metadata": {},
   "outputs": [
    {
     "data": {
      "text/html": [
       "<div>\n",
       "<style scoped>\n",
       "    .dataframe tbody tr th:only-of-type {\n",
       "        vertical-align: middle;\n",
       "    }\n",
       "\n",
       "    .dataframe tbody tr th {\n",
       "        vertical-align: top;\n",
       "    }\n",
       "\n",
       "    .dataframe thead th {\n",
       "        text-align: right;\n",
       "    }\n",
       "</style>\n",
       "<table border=\"1\" class=\"dataframe\">\n",
       "  <thead>\n",
       "    <tr style=\"text-align: right;\">\n",
       "      <th></th>\n",
       "      <th>R_AB_2_n</th>\n",
       "      <th>R_AB_3_n</th>\n",
       "      <th>TIME_B_S</th>\n",
       "      <th>ZSN</th>\n",
       "    </tr>\n",
       "  </thead>\n",
       "  <tbody>\n",
       "    <tr>\n",
       "      <th>count</th>\n",
       "      <td>1700.000000</td>\n",
       "      <td>1700.000000</td>\n",
       "      <td>1700.000000</td>\n",
       "      <td>1700.000000</td>\n",
       "    </tr>\n",
       "    <tr>\n",
       "      <th>mean</th>\n",
       "      <td>0.131765</td>\n",
       "      <td>0.071765</td>\n",
       "      <td>4.485294</td>\n",
       "      <td>0.231765</td>\n",
       "    </tr>\n",
       "    <tr>\n",
       "      <th>std</th>\n",
       "      <td>0.412064</td>\n",
       "      <td>0.302282</td>\n",
       "      <td>2.850672</td>\n",
       "      <td>0.422084</td>\n",
       "    </tr>\n",
       "    <tr>\n",
       "      <th>min</th>\n",
       "      <td>0.000000</td>\n",
       "      <td>0.000000</td>\n",
       "      <td>1.000000</td>\n",
       "      <td>0.000000</td>\n",
       "    </tr>\n",
       "    <tr>\n",
       "      <th>25%</th>\n",
       "      <td>0.000000</td>\n",
       "      <td>0.000000</td>\n",
       "      <td>2.000000</td>\n",
       "      <td>0.000000</td>\n",
       "    </tr>\n",
       "    <tr>\n",
       "      <th>50%</th>\n",
       "      <td>0.000000</td>\n",
       "      <td>0.000000</td>\n",
       "      <td>3.000000</td>\n",
       "      <td>0.000000</td>\n",
       "    </tr>\n",
       "    <tr>\n",
       "      <th>75%</th>\n",
       "      <td>0.000000</td>\n",
       "      <td>0.000000</td>\n",
       "      <td>7.000000</td>\n",
       "      <td>0.000000</td>\n",
       "    </tr>\n",
       "    <tr>\n",
       "      <th>max</th>\n",
       "      <td>3.000000</td>\n",
       "      <td>3.000000</td>\n",
       "      <td>9.000000</td>\n",
       "      <td>1.000000</td>\n",
       "    </tr>\n",
       "  </tbody>\n",
       "</table>\n",
       "</div>"
      ],
      "text/plain": [
       "          R_AB_2_n     R_AB_3_n     TIME_B_S          ZSN\n",
       "count  1700.000000  1700.000000  1700.000000  1700.000000\n",
       "mean      0.131765     0.071765     4.485294     0.231765\n",
       "std       0.412064     0.302282     2.850672     0.422084\n",
       "min       0.000000     0.000000     1.000000     0.000000\n",
       "25%       0.000000     0.000000     2.000000     0.000000\n",
       "50%       0.000000     0.000000     3.000000     0.000000\n",
       "75%       0.000000     0.000000     7.000000     0.000000\n",
       "max       3.000000     3.000000     9.000000     1.000000"
      ]
     },
     "execution_count": 27,
     "metadata": {},
     "output_type": "execute_result"
    }
   ],
   "source": [
    "df.iloc[:, 8:].describe()"
   ]
  },
  {
   "cell_type": "markdown",
   "metadata": {},
   "source": [
    "# DATA VISUALISATION"
   ]
  },
  {
   "cell_type": "code",
   "execution_count": 28,
   "metadata": {},
   "outputs": [
    {
     "data": {
      "image/png": "[encoded data removed]",
      "text/plain": [
       "<Figure size 864x864 with 12 Axes>"
      ]
     },
     "metadata": {
      "needs_background": "light"
     },
     "output_type": "display_data"
    }
   ],
   "source": [
    "df.hist(figsize= [12,12])\n",
    "plt.show()"
   ]
  },
  {
   "cell_type": "code",
   "execution_count": 29,
   "metadata": {},
   "outputs": [
    {
     "data": {
      "text/plain": [
       "Text(0, 0.5, 'SEX')"
      ]
     },
     "execution_count": 29,
     "metadata": {},
     "output_type": "execute_result"
    },
    {
     "data": {
      "image/png": "[encoded data removed]",
      "text/plain": [
       "<Figure size 720x360 with 1 Axes>"
      ]
     },
     "metadata": {
      "needs_background": "light"
     },
     "output_type": "display_data"
    }
   ],
   "source": [
    "gender_CHD = pd.crosstab(index = df['ZSN'], columns = df['SEX'], values=df['TIME_B_S'], aggfunc=np.count_nonzero)\n",
    "gender_CHD.plot(kind='bar', stacked=False, grid= True, figsize = (10,5))\n",
    "plt.ylabel('SEX')"
   ]
  },
  {
   "cell_type": "code",
   "execution_count": 30,
   "metadata": {},
   "outputs": [
    {
     "data": {
      "text/plain": [
       "<matplotlib.legend.Legend at 0x7f3386565fa0>"
      ]
     },
     "execution_count": 30,
     "metadata": {},
     "output_type": "execute_result"
    },
    {
     "data": {
      "image/png": "[encoded data removed]",
      "text/plain": [
       "<Figure size 4320x2160 with 1 Axes>"
      ]
     },
     "metadata": {
      "needs_background": "light"
     },
     "output_type": "display_data"
    }
   ],
   "source": [
    "Age = pd.crosstab(index = df['AGE'], columns = df['ZSN'], values=df['TIME_B_S'], aggfunc=np.count_nonzero)\n",
    "Age.plot(kind='bar', stacked=False,figsize=(60, 30), grid= True)\n",
    "plt.title('RELATIONSHIP BETWEEN AGE AND ZSN', fontsize=50)\n",
    "plt.xlabel('ZSN', fontsize = 50)\n",
    "plt.ylabel('AGE', fontsize = 50)\n",
    "plt.legend(fontsize =30)"
   ]
  },
  {
   "cell_type": "code",
   "execution_count": 31,
   "metadata": {},
   "outputs": [
    {
     "data": {
      "text/plain": [
       "<AxesSubplot:xlabel='AGE'>"
      ]
     },
     "execution_count": 31,
     "metadata": {},
     "output_type": "execute_result"
    },
    {
     "data": {
      "image/png": "[encoded data removed]",
      "text/plain": [
       "<Figure size 864x720 with 1 Axes>"
      ]
     },
     "metadata": {
      "needs_background": "light"
     },
     "output_type": "display_data"
    }
   ],
   "source": [
    "CHD = pd.crosstab(index = df['AGE'], columns = df['SEX'], values=df['ZSN'], aggfunc=np.count_nonzero)\n",
    "CHD.plot(figsize = (12,10))"
   ]
  },
  {
   "cell_type": "code",
   "execution_count": 32,
   "metadata": {},
   "outputs": [
    {
     "data": {
      "image/png": "[encoded data removed]",
      "text/plain": [
       "<Figure size 432x288 with 1 Axes>"
      ]
     },
     "metadata": {
      "needs_background": "light"
     },
     "output_type": "display_data"
    }
   ],
   "source": [
    "df_v = df.copy()\n",
    "df_vis = df_v.groupby('ZSN')['TIME_B_S'].sum().to_frame().reset_index()\n",
    "#Creating the column plot \n",
    "plt.barh(df_vis['ZSN'],df_vis['TIME_B_S'], color= 'lightgreen') \n",
    "#Adding the aesthetics\n",
    "plt.title('Time Elapsed from the Beginning of ZSN Attack')\n",
    "plt.xlabel('ZSN', color= 'purple')\n",
    "plt.ylabel('TIME_B_S', color='orange') \n",
    "#Show the plot\n",
    "plt.show()"
   ]
  },
  {
   "cell_type": "code",
   "execution_count": 33,
   "metadata": {},
   "outputs": [
    {
     "data": {
      "text/plain": [
       "<seaborn.axisgrid.FacetGrid at 0x7f3389d26730>"
      ]
     },
     "execution_count": 33,
     "metadata": {},
     "output_type": "execute_result"
    },
    {
     "data": {
      "image/png": "[encoded data removed]",
      "text/plain": [
       "<Figure size 402.375x360 with 1 Axes>"
      ]
     },
     "metadata": {
      "needs_background": "light"
     },
     "output_type": "display_data"
    }
   ],
   "source": [
    "sns.catplot(x=\"R_AB_1_n\", y=\"AGE\", hue=\"ZSN\", kind=\"box\", data=df)"
   ]
  },
  {
   "cell_type": "markdown",
   "metadata": {},
   "source": [
    "# MACHINE LEARNING MODEL"
   ]
  },
  {
   "cell_type": "code",
   "execution_count": 34,
   "metadata": {},
   "outputs": [],
   "source": [
    "from sklearn.model_selection import train_test_split\n",
    "from sklearn.linear_model import LogisticRegression\n",
    "from sklearn.linear_model import LinearRegression\n",
    "from sklearn.ensemble import RandomForestClassifier\n",
    "from sklearn import preprocessing\n",
    "from sklearn.metrics import accuracy_score, classification_report, confusion_matrix\n",
    "from matplotlib import pyplot as plt\n",
    "import seaborn as sns\n",
    "from sklearn import metrics\n",
    "import numpy as np\n",
    "from sklearn.model_selection import train_test_split\n",
    "from sklearn.preprocessing import StandardScaler\n",
    "from sklearn.naive_bayes import GaussianNB\n",
    "from sklearn.ensemble import GradientBoostingClassifier\n",
    "from sklearn.tree import DecisionTreeClassifier\n",
    "from xgboost import XGBClassifier\n",
    "from sklearn.metrics import confusion_matrix, accuracy_score\n",
    "import xgboost as xgb\n",
    "from xgboost import XGBClassifier\n",
    "from sklearn.metrics import mean_squared_error\n",
    "from sklearn.metrics import confusion_matrix\n",
    "from sklearn.model_selection import cross_val_score, KFold"
   ]
  },
  {
   "cell_type": "markdown",
   "metadata": {},
   "source": [
    "# TRAIN THE TEST DATA"
   ]
  },
  {
   "cell_type": "code",
   "execution_count": 35,
   "metadata": {},
   "outputs": [],
   "source": [
    "# create a new data frame\n",
    "data = df.copy()\n",
    "\n",
    "# splitting the data to training and testing\n",
    "y = data['ZSN']\n",
    "x = data.drop(['ZSN'], axis = 1)\n",
    "\n",
    "X_train, X_test, y_train, y_test = train_test_split(x, y, test_size=0.20, random_state=5)"
   ]
  },
  {
   "cell_type": "code",
   "execution_count": 36,
   "metadata": {},
   "outputs": [],
   "source": [
    "scaler = preprocessing.StandardScaler().fit(X_train)\n",
    "X_train_scaled = scaler.transform(X_train)"
   ]
  },
  {
   "cell_type": "markdown",
   "metadata": {},
   "source": [
    "# SMOTEC-NC IMBALANCE"
   ]
  },
  {
   "cell_type": "code",
   "execution_count": 37,
   "metadata": {},
   "outputs": [
    {
     "name": "stdout",
     "output_type": "stream",
     "text": [
      "Defaulting to user installation because normal site-packages is not writeable\n",
      "Requirement already satisfied: imbalanced-learn in ./.local/lib/python3.8/site-packages (0.9.0)\n",
      "Requirement already satisfied: scikit-learn>=1.0.1 in ./.local/lib/python3.8/site-packages (from imbalanced-learn) (1.0.2)\n",
      "Requirement already satisfied: joblib>=0.11 in /usr/local/lib/python3.8/dist-packages (from imbalanced-learn) (0.16.0)\n",
      "Requirement already satisfied: threadpoolctl>=2.0.0 in /usr/local/lib/python3.8/dist-packages (from imbalanced-learn) (2.1.0)\n",
      "Requirement already satisfied: numpy>=1.14.6 in /usr/local/lib/python3.8/dist-packages (from imbalanced-learn) (1.22.3)\n",
      "Requirement already satisfied: scipy>=1.1.0 in /usr/local/lib/python3.8/dist-packages (from imbalanced-learn) (1.5.2)\n",
      "Note: you may need to restart the kernel to use updated packages.\n"
     ]
    }
   ],
   "source": [
    "pip install -U imbalanced-learn"
   ]
  },
  {
   "cell_type": "code",
   "execution_count": 38,
   "metadata": {},
   "outputs": [],
   "source": [
    "from imblearn.over_sampling import SMOTENC\n",
    "\n",
    "sm = SMOTENC(random_state=42, categorical_features=[0])\n",
    "X_res, y_res = sm.fit_resample(X_train, y_train)"
   ]
  },
  {
   "cell_type": "code",
   "execution_count": 39,
   "metadata": {},
   "outputs": [
    {
     "name": "stdout",
     "output_type": "stream",
     "text": [
      "(2108,)\n"
     ]
    },
    {
     "data": {
      "text/plain": [
       "0    1054\n",
       "1    1054\n",
       "Name: ZSN, dtype: int64"
      ]
     },
     "execution_count": 39,
     "metadata": {},
     "output_type": "execute_result"
    }
   ],
   "source": [
    "print(y_res.shape)\n",
    "y_res.value_counts()"
   ]
  },
  {
   "cell_type": "markdown",
   "metadata": {},
   "source": [
    "# LOGISTIC REGRESSION"
   ]
  },
  {
   "cell_type": "code",
   "execution_count": 40,
   "metadata": {},
   "outputs": [
    {
     "name": "stdout",
     "output_type": "stream",
     "text": [
      "The Training Accuracy is 60.05692599620494\n"
     ]
    }
   ],
   "source": [
    "model = LogisticRegression()\n",
    "# train model\n",
    "model.fit(X_res, y_res)\n",
    "train_acc = model.score(X_res, y_res)\n",
    "print(\"The Training Accuracy is {}\".format(train_acc*100))"
   ]
  },
  {
   "cell_type": "code",
   "execution_count": 41,
   "metadata": {},
   "outputs": [
    {
     "data": {
      "text/plain": [
       "array([0, 1, 1, 0, 0, 1, 1, 0, 0, 0, 1, 0, 1, 0, 0, 1, 1, 0, 1, 0, 0, 0,\n",
       "       1, 0, 0, 1, 1, 1, 1, 0, 0, 0, 0, 0, 1, 1, 0, 1, 1, 0, 1, 1, 0, 0,\n",
       "       0, 1, 0, 0, 1, 0, 0, 1, 0, 1, 1, 1, 1, 0, 0, 0, 1, 1, 0, 0, 0, 0,\n",
       "       0, 1, 1, 0, 0, 0, 1, 0, 0, 0, 0, 1, 1, 1, 0, 0, 0, 0, 0, 0, 1, 1,\n",
       "       0, 0, 0, 0, 0, 1, 0, 0, 1, 0, 1, 1, 1, 1, 0, 1, 1, 1, 0, 0, 0, 0,\n",
       "       0, 0, 0, 1, 0, 0, 1, 1, 1, 1, 0, 1, 1, 0, 0, 0, 1, 1, 1, 1, 1, 1,\n",
       "       1, 1, 1, 1, 1, 1, 0, 1, 0, 0, 1, 1, 0, 1, 1, 1, 1, 0, 1, 1, 0, 1,\n",
       "       0, 0, 0, 1, 1, 0, 0, 1, 0, 1, 1, 0, 0, 1, 1, 0, 1, 0, 1, 1, 0, 0,\n",
       "       1, 1, 0, 0, 0, 0, 0, 1, 1, 1, 1, 0, 0, 0, 0, 1, 0, 0, 0, 1, 1, 0,\n",
       "       0, 1, 0, 1, 1, 0, 0, 0, 1, 0, 1, 0, 1, 1, 1, 0, 1, 1, 1, 0, 1, 1,\n",
       "       0, 1, 0, 0, 1, 0, 1, 1, 0, 1, 1, 0, 1, 0, 0, 1, 0, 0, 1, 0, 1, 0,\n",
       "       1, 0, 1, 0, 0, 1, 0, 0, 0, 1, 0, 0, 1, 1, 1, 0, 1, 1, 1, 0, 0, 1,\n",
       "       0, 1, 0, 1, 0, 0, 1, 0, 1, 1, 0, 1, 1, 0, 0, 1, 1, 1, 0, 1, 0, 1,\n",
       "       0, 1, 1, 0, 0, 0, 0, 0, 1, 0, 0, 0, 1, 0, 1, 1, 0, 0, 1, 0, 1, 1,\n",
       "       0, 0, 0, 0, 0, 1, 1, 1, 0, 1, 1, 0, 0, 1, 0, 1, 0, 1, 0, 0, 0, 0,\n",
       "       0, 0, 0, 0, 0, 1, 1, 1, 1, 1])"
      ]
     },
     "execution_count": 41,
     "metadata": {},
     "output_type": "execute_result"
    }
   ],
   "source": [
    "y_pred = model.predict(X_test)\n",
    "y_pred"
   ]
  },
  {
   "cell_type": "code",
   "execution_count": 42,
   "metadata": {},
   "outputs": [
    {
     "name": "stdout",
     "output_type": "stream",
     "text": [
      "              precision    recall  f1-score   support\n",
      "\n",
      "           0       0.78      0.55      0.65       252\n",
      "           1       0.30      0.56      0.39        88\n",
      "\n",
      "    accuracy                           0.55       340\n",
      "   macro avg       0.54      0.55      0.52       340\n",
      "weighted avg       0.66      0.55      0.58       340\n",
      "\n"
     ]
    }
   ],
   "source": [
    "print(classification_report(y_test, y_pred))"
   ]
  },
  {
   "cell_type": "markdown",
   "metadata": {},
   "source": [
    "# RANDOM FOREST CLASSIFIER"
   ]
  },
  {
   "cell_type": "code",
   "execution_count": 43,
   "metadata": {},
   "outputs": [
    {
     "data": {
      "image/png": "[encoded data removed]",
      "text/plain": [
       "<Figure size 432x288 with 1 Axes>"
      ]
     },
     "metadata": {
      "needs_background": "light"
     },
     "output_type": "display_data"
    }
   ],
   "source": [
    "model = RandomForestClassifier(n_estimators=60)\n",
    "model.fit(X_res,y_res)\n",
    "metrics.plot_roc_curve(model, X_res, y_res) \n",
    "\n",
    "plt.show()"
   ]
  },
  {
   "cell_type": "code",
   "execution_count": 44,
   "metadata": {},
   "outputs": [
    {
     "data": {
      "text/plain": [
       "array([1, 0, 0, 0, 0, 0, 0, 0, 0, 0, 0, 0, 0, 0, 0, 0, 0, 1, 0, 0, 0, 0,\n",
       "       0, 0, 0, 0, 1, 0, 1, 1, 0, 0, 0, 1, 1, 0, 0, 0, 0, 0, 0, 0, 0, 0,\n",
       "       1, 0, 0, 0, 1, 0, 0, 0, 0, 1, 0, 0, 1, 1, 1, 0, 1, 1, 1, 0, 0, 0,\n",
       "       0, 1, 1, 1, 1, 0, 0, 1, 0, 0, 0, 0, 0, 1, 0, 1, 0, 0, 0, 0, 0, 0,\n",
       "       0, 0, 0, 0, 0, 0, 1, 0, 1, 0, 0, 1, 0, 1, 0, 0, 1, 1, 0, 1, 1, 0,\n",
       "       1, 0, 0, 1, 0, 0, 0, 0, 1, 0, 0, 0, 0, 0, 1, 0, 0, 0, 0, 0, 0, 0,\n",
       "       1, 1, 1, 0, 0, 0, 0, 0, 0, 1, 1, 0, 0, 0, 1, 0, 0, 0, 0, 0, 0, 0,\n",
       "       0, 0, 0, 0, 1, 1, 0, 1, 0, 0, 0, 1, 0, 1, 1, 0, 0, 0, 1, 0, 0, 0,\n",
       "       0, 0, 0, 0, 0, 0, 0, 1, 0, 1, 0, 0, 0, 0, 0, 0, 0, 0, 1, 1, 0, 0,\n",
       "       0, 1, 1, 1, 0, 0, 0, 0, 0, 1, 1, 0, 1, 1, 1, 0, 0, 1, 0, 0, 0, 1,\n",
       "       0, 1, 1, 1, 0, 0, 1, 0, 0, 0, 1, 0, 0, 0, 0, 0, 0, 0, 0, 0, 0, 1,\n",
       "       0, 0, 1, 0, 0, 0, 0, 1, 1, 1, 1, 0, 0, 0, 0, 0, 1, 0, 0, 1, 1, 0,\n",
       "       0, 0, 0, 0, 0, 0, 0, 0, 0, 0, 0, 0, 0, 0, 0, 1, 1, 1, 0, 0, 0, 0,\n",
       "       0, 0, 1, 0, 0, 0, 0, 0, 0, 0, 1, 0, 0, 0, 1, 0, 1, 0, 1, 0, 0, 1,\n",
       "       0, 0, 1, 0, 0, 0, 0, 0, 0, 0, 1, 0, 1, 1, 0, 1, 1, 0, 0, 0, 0, 0,\n",
       "       0, 1, 0, 1, 0, 1, 1, 1, 0, 0])"
      ]
     },
     "execution_count": 44,
     "metadata": {},
     "output_type": "execute_result"
    }
   ],
   "source": [
    "y_pred = model.predict(X_test)\n",
    "y_pred"
   ]
  },
  {
   "cell_type": "code",
   "execution_count": 45,
   "metadata": {},
   "outputs": [
    {
     "name": "stdout",
     "output_type": "stream",
     "text": [
      "              precision    recall  f1-score   support\n",
      "\n",
      "           0       0.76      0.73      0.75       252\n",
      "           1       0.30      0.33      0.32        88\n",
      "\n",
      "    accuracy                           0.63       340\n",
      "   macro avg       0.53      0.53      0.53       340\n",
      "weighted avg       0.64      0.63      0.63       340\n",
      "\n"
     ]
    }
   ],
   "source": [
    "print(classification_report(y_test, y_pred))"
   ]
  },
  {
   "cell_type": "code",
   "execution_count": 46,
   "metadata": {},
   "outputs": [
    {
     "name": "stderr",
     "output_type": "stream",
     "text": [
      "No handles with labels found to put in legend.\n"
     ]
    },
    {
     "data": {
      "image/png": "[encoded data removed]",
      "text/plain": [
       "<Figure size 432x288 with 1 Axes>"
      ]
     },
     "metadata": {
      "needs_background": "light"
     },
     "output_type": "display_data"
    },
    {
     "data": {
      "text/plain": [
       "<Figure size 2160x2160 with 0 Axes>"
      ]
     },
     "metadata": {},
     "output_type": "display_data"
    }
   ],
   "source": [
    "feature_imp = pd.Series(model.feature_importances_,index=X_res.columns.tolist()).sort_values(ascending=False)\n",
    "sns.barplot(x=feature_imp, y=feature_imp.index)\n",
    "# Add labels to your graph\n",
    "plt.xlabel('Feature Importance Score')\n",
    "plt.ylabel('Features')\n",
    "plt.title(\"Visualizing Important Features\")\n",
    "plt.legend()\n",
    "plt.figure(figsize=(30,30))\n",
    "plt.show()"
   ]
  },
  {
   "cell_type": "markdown",
   "metadata": {},
   "source": [
    "# NAIVE BAYES CLASSIFIER"
   ]
  },
  {
   "cell_type": "code",
   "execution_count": 47,
   "metadata": {},
   "outputs": [
    {
     "data": {
      "text/plain": [
       "GaussianNB()"
      ]
     },
     "execution_count": 47,
     "metadata": {},
     "output_type": "execute_result"
    }
   ],
   "source": [
    "model = GaussianNB()\n",
    "model.fit(X_res, y_res)"
   ]
  },
  {
   "cell_type": "code",
   "execution_count": 48,
   "metadata": {},
   "outputs": [
    {
     "data": {
      "text/plain": [
       "array([1, 1, 1, 0, 1, 1, 1, 0, 1, 0, 1, 0, 0, 1, 0, 1, 1, 1, 1, 1, 1, 1,\n",
       "       1, 1, 1, 1, 1, 1, 1, 1, 1, 1, 1, 1, 1, 1, 1, 1, 1, 1, 1, 1, 1, 0,\n",
       "       1, 1, 0, 1, 1, 1, 0, 1, 1, 1, 1, 1, 1, 1, 1, 1, 1, 1, 0, 1, 1, 1,\n",
       "       1, 1, 1, 0, 1, 1, 1, 1, 1, 0, 0, 1, 1, 1, 0, 1, 0, 0, 1, 1, 1, 1,\n",
       "       1, 0, 1, 1, 1, 1, 1, 1, 1, 1, 1, 1, 1, 1, 1, 1, 1, 1, 1, 0, 1, 1,\n",
       "       1, 1, 1, 1, 1, 1, 1, 1, 1, 1, 0, 1, 1, 1, 0, 1, 1, 1, 1, 1, 1, 1,\n",
       "       1, 1, 1, 1, 1, 1, 0, 0, 0, 1, 1, 1, 1, 1, 1, 1, 1, 1, 1, 1, 1, 1,\n",
       "       1, 0, 0, 1, 0, 1, 1, 1, 0, 1, 1, 1, 1, 1, 1, 1, 1, 1, 1, 1, 1, 1,\n",
       "       1, 1, 1, 0, 1, 1, 1, 1, 1, 1, 1, 1, 1, 0, 0, 1, 1, 0, 1, 1, 1, 1,\n",
       "       0, 1, 0, 1, 1, 1, 1, 1, 1, 1, 0, 0, 1, 1, 1, 1, 1, 1, 1, 0, 1, 1,\n",
       "       0, 1, 1, 1, 1, 1, 1, 1, 1, 1, 1, 0, 1, 1, 1, 1, 0, 0, 0, 0, 1, 0,\n",
       "       1, 1, 1, 1, 0, 1, 1, 0, 1, 1, 1, 1, 1, 1, 1, 1, 1, 1, 1, 0, 1, 1,\n",
       "       0, 1, 1, 1, 0, 1, 1, 1, 1, 1, 1, 1, 1, 0, 1, 0, 1, 1, 1, 1, 0, 1,\n",
       "       0, 1, 1, 1, 0, 1, 1, 1, 1, 1, 1, 1, 1, 0, 1, 1, 0, 1, 1, 0, 1, 1,\n",
       "       1, 1, 1, 1, 1, 1, 1, 1, 1, 1, 1, 1, 1, 1, 1, 1, 1, 1, 0, 0, 1, 0,\n",
       "       0, 1, 0, 1, 1, 1, 1, 1, 0, 1])"
      ]
     },
     "execution_count": 48,
     "metadata": {},
     "output_type": "execute_result"
    }
   ],
   "source": [
    "y_pred  =  model.predict(X_test)\n",
    "y_pred"
   ]
  },
  {
   "cell_type": "code",
   "execution_count": 49,
   "metadata": {},
   "outputs": [
    {
     "name": "stdout",
     "output_type": "stream",
     "text": [
      "Confusion matrix:  [[ 46 206]\n",
      " [ 16  72]]\n",
      "Accuracy:  0.34705882352941175\n"
     ]
    }
   ],
   "source": [
    "cmt = confusion_matrix(y_test, y_pred)\n",
    "acc = accuracy_score(y_test,y_pred)\n",
    "print('Confusion matrix: ', cmt)\n",
    "print('Accuracy: ', acc)"
   ]
  },
  {
   "cell_type": "code",
   "execution_count": 50,
   "metadata": {},
   "outputs": [
    {
     "data": {
      "image/png": "[encoded data removed]",
      "text/plain": [
       "<Figure size 648x648 with 2 Axes>"
      ]
     },
     "metadata": {
      "needs_background": "light"
     },
     "output_type": "display_data"
    }
   ],
   "source": [
    "plt.figure(figsize=(9,9))\n",
    "sns.heatmap(cmt, annot=True, fmt=\".3f\", linewidths=.5, square=True, cmap='Blues_r');\n",
    "plt.ylabel('Actual label');\n",
    "plt.xlabel('Predicted label');\n",
    "df = 'Accuracy Score:{0}'.format(acc)\n",
    "plt.title(df, size = 15);"
   ]
  },
  {
   "cell_type": "code",
   "execution_count": 51,
   "metadata": {},
   "outputs": [
    {
     "name": "stdout",
     "output_type": "stream",
     "text": [
      "              precision    recall  f1-score   support\n",
      "\n",
      "           0       1.00      1.00      1.00      1054\n",
      "           1       1.00      1.00      1.00      1054\n",
      "\n",
      "    accuracy                           1.00      2108\n",
      "   macro avg       1.00      1.00      1.00      2108\n",
      "weighted avg       1.00      1.00      1.00      2108\n",
      "\n"
     ]
    }
   ],
   "source": [
    "print(classification_report(y_res, y_res))"
   ]
  },
  {
   "cell_type": "markdown",
   "metadata": {},
   "source": [
    "# GRADIENT BOOSTING CLASSIFIER"
   ]
  },
  {
   "cell_type": "code",
   "execution_count": 52,
   "metadata": {},
   "outputs": [
    {
     "data": {
      "text/plain": [
       "GradientBoostingClassifier()"
      ]
     },
     "execution_count": 52,
     "metadata": {},
     "output_type": "execute_result"
    }
   ],
   "source": [
    "model = GradientBoostingClassifier(learning_rate=0.1)\n",
    "model.fit(X_res,y_res)"
   ]
  },
  {
   "cell_type": "code",
   "execution_count": 53,
   "metadata": {},
   "outputs": [
    {
     "data": {
      "text/plain": [
       "array([0, 0, 0, 0, 0, 0, 0, 0, 0, 0, 1, 0, 0, 0, 0, 0, 0, 1, 0, 0, 0, 0,\n",
       "       1, 0, 0, 1, 0, 0, 1, 1, 0, 0, 0, 1, 1, 1, 0, 1, 1, 1, 1, 0, 0, 0,\n",
       "       1, 1, 0, 0, 0, 0, 1, 0, 1, 1, 1, 0, 1, 0, 0, 1, 1, 1, 0, 0, 0, 0,\n",
       "       0, 1, 1, 0, 0, 0, 1, 1, 0, 1, 0, 1, 0, 1, 0, 1, 0, 0, 0, 0, 1, 1,\n",
       "       0, 0, 0, 0, 0, 1, 0, 0, 0, 0, 0, 1, 0, 0, 0, 1, 0, 0, 1, 0, 0, 1,\n",
       "       0, 0, 1, 1, 0, 0, 0, 1, 1, 1, 0, 1, 0, 0, 1, 0, 0, 0, 1, 0, 0, 1,\n",
       "       1, 1, 1, 1, 1, 0, 0, 0, 0, 0, 0, 0, 0, 0, 0, 0, 1, 0, 1, 0, 1, 0,\n",
       "       0, 0, 0, 0, 1, 1, 0, 1, 0, 0, 1, 0, 0, 0, 0, 1, 0, 0, 1, 0, 0, 0,\n",
       "       0, 0, 0, 0, 0, 0, 0, 1, 0, 0, 1, 0, 0, 0, 0, 1, 0, 0, 0, 1, 1, 0,\n",
       "       0, 1, 0, 1, 1, 0, 0, 1, 1, 0, 1, 0, 1, 1, 1, 0, 0, 0, 1, 0, 1, 1,\n",
       "       0, 0, 1, 0, 0, 0, 0, 0, 0, 1, 1, 1, 1, 0, 0, 0, 0, 0, 0, 0, 1, 0,\n",
       "       0, 0, 1, 0, 0, 1, 0, 1, 1, 1, 1, 0, 1, 1, 1, 0, 1, 1, 1, 0, 0, 0,\n",
       "       0, 0, 1, 0, 0, 0, 0, 1, 0, 0, 0, 0, 0, 0, 0, 1, 1, 1, 0, 1, 0, 1,\n",
       "       0, 1, 0, 0, 0, 0, 1, 0, 1, 0, 1, 0, 1, 0, 1, 1, 1, 0, 1, 1, 0, 1,\n",
       "       0, 1, 1, 0, 1, 1, 0, 0, 0, 1, 1, 0, 0, 1, 0, 0, 0, 0, 0, 0, 0, 0,\n",
       "       0, 0, 0, 0, 1, 1, 1, 1, 0, 1])"
      ]
     },
     "execution_count": 53,
     "metadata": {},
     "output_type": "execute_result"
    }
   ],
   "source": [
    "y_pred = model.predict(X_test)\n",
    "y_pred"
   ]
  },
  {
   "cell_type": "code",
   "execution_count": 54,
   "metadata": {},
   "outputs": [
    {
     "name": "stdout",
     "output_type": "stream",
     "text": [
      "Accuracy score (training): 0.717\n",
      "Accuracy score (Testing): 0.594\n",
      "              precision    recall  f1-score   support\n",
      "\n",
      "           0       0.77      0.65      0.70       252\n",
      "           1       0.30      0.43      0.36        88\n",
      "\n",
      "    accuracy                           0.59       340\n",
      "   macro avg       0.53      0.54      0.53       340\n",
      "weighted avg       0.65      0.59      0.61       340\n",
      "\n"
     ]
    }
   ],
   "source": [
    "print(\"Accuracy score (training): {0:.3f}\".format(model.score(X_res, y_res)))\n",
    "print(\"Accuracy score (Testing): {0:.3f}\".format(model.score(X_test, y_test)))\n",
    "print(classification_report(y_test, y_pred))"
   ]
  },
  {
   "cell_type": "code",
   "execution_count": 55,
   "metadata": {},
   "outputs": [
    {
     "data": {
      "image/png": "[encoded data removed]",
      "text/plain": [
       "<Figure size 432x288 with 1 Axes>"
      ]
     },
     "metadata": {
      "needs_background": "light"
     },
     "output_type": "display_data"
    }
   ],
   "source": [
    "metrics.plot_roc_curve(model, X_res, y_res) \n",
    "plt.title(\"ROC curve XGB Classifier\")\n",
    "plt.show()"
   ]
  },
  {
   "cell_type": "markdown",
   "metadata": {},
   "source": [
    "# DECISION TREE CLASSIFIER"
   ]
  },
  {
   "cell_type": "code",
   "execution_count": 56,
   "metadata": {},
   "outputs": [],
   "source": [
    "model = DecisionTreeClassifier()\n",
    "model = model.fit(X_res,y_res)"
   ]
  },
  {
   "cell_type": "code",
   "execution_count": 57,
   "metadata": {},
   "outputs": [
    {
     "data": {
      "text/plain": [
       "array([1, 1, 0, 0, 0, 0, 0, 0, 0, 0, 1, 0, 0, 1, 0, 0, 0, 1, 1, 0, 0, 0,\n",
       "       0, 0, 0, 0, 0, 0, 0, 1, 0, 0, 0, 1, 0, 0, 0, 0, 0, 0, 0, 0, 0, 0,\n",
       "       1, 0, 0, 0, 1, 0, 0, 0, 0, 1, 0, 0, 1, 0, 1, 0, 1, 1, 1, 1, 0, 0,\n",
       "       0, 0, 1, 1, 1, 0, 0, 1, 0, 0, 0, 0, 0, 1, 0, 1, 0, 0, 1, 0, 0, 0,\n",
       "       0, 0, 0, 0, 0, 0, 1, 0, 1, 0, 0, 1, 1, 1, 0, 0, 1, 1, 1, 1, 1, 0,\n",
       "       0, 0, 0, 1, 0, 0, 0, 0, 1, 0, 0, 1, 0, 1, 1, 0, 0, 0, 0, 0, 1, 0,\n",
       "       1, 1, 1, 0, 0, 1, 0, 1, 0, 0, 1, 0, 0, 0, 1, 0, 0, 0, 0, 0, 0, 1,\n",
       "       0, 1, 0, 0, 1, 1, 1, 1, 0, 1, 0, 1, 0, 1, 0, 0, 1, 0, 0, 0, 1, 0,\n",
       "       0, 0, 0, 0, 0, 0, 0, 1, 1, 1, 0, 0, 0, 0, 0, 0, 0, 0, 1, 1, 0, 0,\n",
       "       0, 1, 1, 1, 0, 1, 0, 0, 0, 1, 0, 0, 0, 0, 1, 0, 0, 1, 0, 0, 0, 0,\n",
       "       0, 1, 1, 1, 0, 0, 0, 0, 0, 0, 1, 0, 0, 0, 0, 0, 0, 0, 0, 0, 0, 0,\n",
       "       0, 0, 0, 0, 0, 0, 0, 1, 1, 0, 1, 0, 0, 0, 0, 0, 0, 1, 0, 1, 1, 0,\n",
       "       0, 1, 0, 0, 0, 1, 0, 0, 1, 0, 0, 0, 0, 0, 0, 1, 1, 1, 0, 0, 0, 0,\n",
       "       0, 0, 1, 0, 0, 0, 0, 0, 0, 0, 1, 0, 0, 0, 1, 0, 1, 0, 1, 0, 0, 1,\n",
       "       0, 0, 1, 0, 0, 0, 1, 0, 0, 0, 0, 0, 1, 1, 0, 0, 1, 0, 0, 0, 0, 1,\n",
       "       0, 0, 0, 1, 0, 1, 0, 0, 1, 0])"
      ]
     },
     "execution_count": 57,
     "metadata": {},
     "output_type": "execute_result"
    }
   ],
   "source": [
    "y_pred = model.predict(X_test)\n",
    "y_pred"
   ]
  },
  {
   "cell_type": "code",
   "execution_count": 58,
   "metadata": {},
   "outputs": [
    {
     "name": "stdout",
     "output_type": "stream",
     "text": [
      "Accuracy: 0.6029411764705882\n",
      "Accuracy score (training): 0.937\n",
      "Accuracy score (Testing): 0.603\n",
      "              precision    recall  f1-score   support\n",
      "\n",
      "           0       0.74      0.71      0.73       252\n",
      "           1       0.27      0.31      0.29        88\n",
      "\n",
      "    accuracy                           0.60       340\n",
      "   macro avg       0.51      0.51      0.51       340\n",
      "weighted avg       0.62      0.60      0.61       340\n",
      "\n"
     ]
    }
   ],
   "source": [
    "print(\"Accuracy:\",metrics.accuracy_score(y_test, y_pred))\n",
    "print(\"Accuracy score (training): {0:.3f}\".format(model.score(X_res, y_res)))\n",
    "print(\"Accuracy score (Testing): {0:.3f}\".format(model.score(X_test, y_test)))\n",
    "print(classification_report(y_test, y_pred))"
   ]
  },
  {
   "cell_type": "code",
   "execution_count": null,
   "metadata": {},
   "outputs": [],
   "source": []
  }
 ],
 "metadata": {
  "kernelspec": {
   "display_name": "Python 3",
   "language": "python",
   "name": "python3"
  },
  "language_info": {
   "codemirror_mode": {
    "name": "ipython",
    "version": 3
   },
   "file_extension": ".py",
   "mimetype": "text/x-python",
   "name": "python",
   "nbconvert_exporter": "python",
   "pygments_lexer": "ipython3",
   "version": "3.8.10"
  }
 },
 "nbformat": 4,
 "nbformat_minor": 4
}
